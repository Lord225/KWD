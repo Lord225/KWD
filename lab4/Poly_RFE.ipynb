{
 "cells": [
  {
   "cell_type": "markdown",
   "metadata": {},
   "source": [
    "# Polynomial features using [PolynomialFeatures](https://scikit-learn.org/stable/modules/generated/sklearn.preprocessing.PolynomialFeatures.html) class"
   ]
  },
  {
   "cell_type": "code",
   "execution_count": 1,
   "metadata": {},
   "outputs": [],
   "source": [
    "from sklearn import datasets\n",
    "\n",
    "housing_data, housing_target = datasets.load_boston(return_X_y=True)"
   ]
  },
  {
   "cell_type": "code",
   "execution_count": 2,
   "metadata": {},
   "outputs": [
    {
     "data": {
      "text/plain": [
       "(506, 13)"
      ]
     },
     "execution_count": 2,
     "metadata": {},
     "output_type": "execute_result"
    }
   ],
   "source": [
    "housing_data.shape"
   ]
  },
  {
   "cell_type": "code",
   "execution_count": 3,
   "metadata": {},
   "outputs": [],
   "source": [
    "from sklearn.model_selection import train_test_split\n",
    "\n",
    "housig_train, housig_test, housig_train_t, housig_test_t  =  \\\n",
    "train_test_split(housing_data, housing_target, test_size=0.1, random_state=1010)"
   ]
  },
  {
   "cell_type": "markdown",
   "metadata": {},
   "source": [
    "## Let's train regular regression as a benchmark"
   ]
  },
  {
   "cell_type": "code",
   "execution_count": 4,
   "metadata": {},
   "outputs": [],
   "source": [
    "from sklearn.linear_model import LinearRegression\n",
    "\n",
    "lr = LinearRegression(normalize=True)"
   ]
  },
  {
   "cell_type": "code",
   "execution_count": 5,
   "metadata": {},
   "outputs": [
    {
     "data": {
      "text/plain": [
       "LinearRegression(normalize=True)"
      ]
     },
     "execution_count": 5,
     "metadata": {},
     "output_type": "execute_result"
    }
   ],
   "source": [
    "lr.fit(housig_train, housig_train_t)"
   ]
  },
  {
   "cell_type": "code",
   "execution_count": 6,
   "metadata": {},
   "outputs": [
    {
     "name": "stdout",
     "output_type": "stream",
     "text": [
      "Mean squared error of a linear moderl: 27.38\n",
      "Linear Regression variance score: 0.78\n"
     ]
    }
   ],
   "source": [
    "from sklearn.metrics import mean_squared_error\n",
    "\n",
    "print(\"Mean squared error of a linear moderl: %.2f\" % \n",
    "      mean_squared_error(housig_test_t, lr.predict(housig_test)))\n",
    "score = lr.score(housig_test, housig_test_t) #r2_score\n",
    "print(\"Linear Regression variance score: %.2f\" % score)"
   ]
  },
  {
   "cell_type": "code",
   "execution_count": null,
   "metadata": {},
   "outputs": [],
   "source": []
  },
  {
   "cell_type": "markdown",
   "metadata": {},
   "source": [
    "## Let's generate polynomial features"
   ]
  },
  {
   "cell_type": "code",
   "execution_count": 21,
   "metadata": {},
   "outputs": [],
   "source": [
    "from sklearn.preprocessing import PolynomialFeatures\n",
    "\n",
    "pt = PolynomialFeatures(2, )#interaction_only=True)"
   ]
  },
  {
   "cell_type": "code",
   "execution_count": 22,
   "metadata": {},
   "outputs": [
    {
     "data": {
      "text/plain": [
       "(455, 105)"
      ]
     },
     "execution_count": 22,
     "metadata": {},
     "output_type": "execute_result"
    }
   ],
   "source": [
    "housig_train_poly = pt.fit_transform(housig_train)\n",
    "housig_train_poly.shape"
   ]
  },
  {
   "cell_type": "code",
   "execution_count": 23,
   "metadata": {},
   "outputs": [],
   "source": [
    "housig_test_poly = pt.fit_transform(housig_test)"
   ]
  },
  {
   "cell_type": "code",
   "execution_count": 24,
   "metadata": {},
   "outputs": [],
   "source": [
    "lr_poly = LinearRegression(normalize=True)"
   ]
  },
  {
   "cell_type": "code",
   "execution_count": 25,
   "metadata": {},
   "outputs": [
    {
     "data": {
      "text/plain": [
       "LinearRegression(normalize=True)"
      ]
     },
     "execution_count": 25,
     "metadata": {},
     "output_type": "execute_result"
    }
   ],
   "source": [
    "lr_poly.fit(housig_train_poly, housig_train_t)"
   ]
  },
  {
   "cell_type": "code",
   "execution_count": 26,
   "metadata": {},
   "outputs": [
    {
     "name": "stdout",
     "output_type": "stream",
     "text": [
      "Mean squared error of a linear moderl using polynomial features: 16.37\n",
      "Linear Regression variance score using polynomial features: 0.87\n"
     ]
    }
   ],
   "source": [
    "print(\"Mean squared error of a linear moderl using polynomial features: %.2f\" % \n",
    "      mean_squared_error(housig_test_t, lr_poly.predict(housig_test_poly)))\n",
    "score = lr_poly.score(housig_test_poly, housig_test_t) #r2_score\n",
    "print(\"Linear Regression variance score using polynomial features: %.2f\" % score)"
   ]
  },
  {
   "cell_type": "code",
   "execution_count": 27,
   "metadata": {},
   "outputs": [
    {
     "name": "stdout",
     "output_type": "stream",
     "text": [
      "[ 1.16059880e-09 -4.74148732e-01 -3.15553193e-01 -5.37326030e+00\n",
      "  4.25841986e+01  3.53059486e+01  1.03510808e+01  9.50292318e-01\n",
      " -7.16138496e+00  2.64220906e+00  4.06147473e-03  2.71772779e-01\n",
      "  2.32889098e-03 -1.20249433e-01  3.10831955e-04  1.77046336e-01\n",
      "  3.27921405e-01  2.17683478e+00 -1.91246029e+00  2.68869862e-01\n",
      " -6.53969582e-03 -1.15723006e-01  2.70113149e-01 -2.50143894e-02\n",
      "  2.21354974e-01 -6.72914821e-04  3.29093386e-02 -1.01792014e-03\n",
      " -7.94703224e-03 -9.47848164e-02 -9.50066355e-01  3.30083299e-02\n",
      " -3.56753029e-04 -5.37367883e-03 -9.61885569e-04  6.38045674e-04\n",
      " -5.59541953e-03  1.50663627e-03 -1.89640538e-03  4.01106789e-02\n",
      " -6.91141135e-02  5.32165763e-01  2.72780977e-01  3.83194662e-03\n",
      "  1.40056422e-01 -9.34806439e-03  1.89832052e-04 -8.73073846e-03\n",
      "  5.35438997e-03 -1.11924864e-02  4.25841986e+01 -5.66072903e+01\n",
      " -5.87775113e+00  2.49522723e-03  6.13822365e-01 -5.88150687e-01\n",
      "  4.92951161e-02 -1.66752139e+00  5.54928613e-03 -2.25489007e-01\n",
      " -9.94127154e-01  1.56571964e+00 -3.63530352e-01  1.46000356e+01\n",
      " -2.19470430e+00  1.95160766e-01 -8.07767784e+00 -1.14615906e-02\n",
      "  1.24316161e+00  8.06549663e-01 -4.76588204e-02  1.01076187e-01\n",
      " -2.00932855e-01 -1.63352352e-02 -2.99567912e-01 -4.92137100e-03\n",
      " -1.27832107e-01  7.90199592e-05 -1.54707659e-03  1.63114618e-02\n",
      " -4.85523373e-04 -7.13532282e-03 -7.59791460e-04 -7.13796757e-03\n",
      "  4.18793123e-01 -1.00411508e-01 -4.23927288e-03 -1.42638105e-01\n",
      " -6.62628066e-03  6.99461541e-02 -1.40888242e-01  8.02396975e-03\n",
      " -6.66671645e-02  3.02311972e-04 -4.49024502e-02 -6.33163585e-05\n",
      "  5.91526702e-03 -1.83232736e-04 -3.35652665e-04  4.50080153e-02\n",
      "  8.29633915e-03  2.21848901e-02 -3.47509966e-05 -3.38259674e-04\n",
      "  1.44591584e-02]\n"
     ]
    }
   ],
   "source": [
    "print(lr_poly.coef_)"
   ]
  },
  {
   "cell_type": "code",
   "execution_count": null,
   "metadata": {},
   "outputs": [],
   "source": [
    "# ToDo: plot how quality of solution (mean and score) change \n",
    "# with change in polynomial features. Plot mean and score for 5 different values of \n",
    "# polynominal degree"
   ]
  },
  {
   "cell_type": "markdown",
   "metadata": {},
   "source": [
    "### Feature ranking with recursive feature elimination with [RFE](https://scikit-learn.org/stable/modules/generated/sklearn.feature_selection.RFE.html)."
   ]
  },
  {
   "cell_type": "code",
   "execution_count": 36,
   "metadata": {},
   "outputs": [
    {
     "name": "stdout",
     "output_type": "stream",
     "text": [
      "[False  True  True  True  True  True  True  True  True  True False  True\n",
      " False  True False  True  True  True  True  True False False False False\n",
      "  True False False False False  True  True False False False False False\n",
      " False False False False  True  True False False  True  True False False\n",
      " False False  True  True  True False  True  True  True  True False  True\n",
      "  True  True False  True  True False  True False  True  True False  True\n",
      "  True False  True False  True False False False False False False False\n",
      "  True  True False False False  True False False False False False False\n",
      " False False False False False False False False False]\n",
      "[61  1  1  1  1  1  1  1  1  1 17  1 30  1 47  1  1  1  1  1 35  7 10 11\n",
      "  1 45  6 46 37  1  1  8 41 36 54 49 38 44 32 12  1  1  4 50  1  1 51 26\n",
      " 39 14  1  1  1 28  1  1  1  1 16  1  1  1 15  1  1  3  1 23  1  1 27  1\n",
      "  1 21  1 31  1 56 52 19 53 34 43 29  1  1 48 18 24  1  2 25  9 40  5 58\n",
      " 33 57 59 20 42 22 60 55 13]\n"
     ]
    }
   ],
   "source": [
    "from sklearn.feature_selection import RFE\n",
    "\n",
    "sel_ = RFE(estimator=LinearRegression(normalize=False), n_features_to_select=45)\n",
    "sel_.fit(housig_train_poly, housig_train_t)\n",
    "\n",
    "print(sel_.support_)\n",
    "print(sel_.ranking_)"
   ]
  },
  {
   "cell_type": "code",
   "execution_count": 37,
   "metadata": {},
   "outputs": [
    {
     "name": "stdout",
     "output_type": "stream",
     "text": [
      "Mean squared error of a linear moderl using _selected_ polynomial features: 12.52\n",
      "Linear Regression variance score using _selected_ polynomial features: 0.90\n"
     ]
    }
   ],
   "source": [
    "print(\"Mean squared error of a linear moderl using _selected_ polynomial features: %.2f\" % \n",
    "      mean_squared_error(housig_test_t, sel_.predict(housig_test_poly)))\n",
    "score = sel_.score(housig_test_poly, housig_test_t) #r2_score\n",
    "print(\"Linear Regression variance score using _selected_ polynomial features: %.2f\" % score)"
   ]
  },
  {
   "cell_type": "code",
   "execution_count": null,
   "metadata": {},
   "outputs": [],
   "source": [
    "# ToDo: plot how quality of solution (mean and score) change \n",
    "# with change in number of polynomial features selected using recursive feature elimination.\n",
    "# Generate a polynominal features with the degree of 3 and check quality of solution \n",
    "# (by polotting for mean and r2_score) for [5,10,15,20,25,30,35,40,45,50,55, 60] features"
   ]
  },
  {
   "cell_type": "markdown",
   "metadata": {},
   "source": [
    "### Learning about importance of a feature with [Lasso regression](http://scikit-learn.org/stable/modules/generated/sklearn.linear_model.Lasso.html) model. A Model with [regularization](https://en.wikipedia.org/wiki/Regularization_(mathematics))."
   ]
  },
  {
   "cell_type": "code",
   "execution_count": 38,
   "metadata": {},
   "outputs": [
    {
     "name": "stdout",
     "output_type": "stream",
     "text": [
      "Mean squared error of a linear moderl: 16.37\n",
      "Lasso regression variance score: 0.88\n"
     ]
    },
    {
     "name": "stderr",
     "output_type": "stream",
     "text": [
      "/Users/kk/opt/anaconda3/lib/python3.8/site-packages/sklearn/linear_model/_coordinate_descent.py:529: ConvergenceWarning: Objective did not converge. You might want to increase the number of iterations. Duality gap: 2279.615198059628, tolerance: 3.629208734065935\n",
      "  model = cd_fast.enet_coordinate_descent(\n"
     ]
    }
   ],
   "source": [
    "from sklearn.linear_model import Lasso\n",
    "\n",
    "lasso_r = Lasso(alpha=0.5, max_iter=5000,)\n",
    "lasso_r.fit(housig_train_poly, housig_train_t)\n",
    "\n",
    "print(\"Mean squared error of a linear moderl: %.2f\" % \n",
    "      mean_squared_error(housig_test_t, lr_poly.predict(housig_test_poly)))\n",
    "score = lasso_r.score(housig_test_poly, housig_test_t) #r2_score\n",
    "print(\"Lasso regression variance score: %.2f\" % score)"
   ]
  },
  {
   "cell_type": "code",
   "execution_count": 39,
   "metadata": {},
   "outputs": [
    {
     "name": "stdout",
     "output_type": "stream",
     "text": [
      "[ 0.00000000e+00  0.00000000e+00 -0.00000000e+00  0.00000000e+00\n",
      " -0.00000000e+00  0.00000000e+00  0.00000000e+00  0.00000000e+00\n",
      " -0.00000000e+00  0.00000000e+00  0.00000000e+00 -0.00000000e+00\n",
      "  3.88615946e-02  0.00000000e+00  2.06229009e-03  0.00000000e+00\n",
      "  0.00000000e+00  0.00000000e+00  0.00000000e+00  4.43725430e-02\n",
      " -3.40012839e-03  0.00000000e+00 -3.72035278e-02  7.40859512e-04\n",
      "  0.00000000e+00 -3.98293299e-05  7.03834244e-03 -1.06448097e-04\n",
      " -1.88043686e-03 -0.00000000e+00 -0.00000000e+00  5.68043044e-02\n",
      "  1.09472622e-04 -6.37642978e-03 -1.99901470e-03  5.49338023e-04\n",
      " -3.50484965e-03 -9.96461120e-04 -4.01706213e-03  2.11751843e-02\n",
      "  0.00000000e+00  0.00000000e+00  0.00000000e+00  6.93305396e-03\n",
      "  0.00000000e+00  2.07639825e-02  4.24930501e-04 -6.01013889e-02\n",
      "  4.41042958e-04 -2.44742128e-02 -0.00000000e+00 -0.00000000e+00\n",
      " -0.00000000e+00  0.00000000e+00 -0.00000000e+00  0.00000000e+00\n",
      "  4.64601190e-03  0.00000000e+00 -2.45021499e-04 -0.00000000e+00\n",
      "  0.00000000e+00  0.00000000e+00  0.00000000e+00  0.00000000e+00\n",
      " -0.00000000e+00 -3.72774709e-02 -0.00000000e+00 -0.00000000e+00\n",
      "  0.00000000e+00  4.50981538e-01  3.50697212e-02  0.00000000e+00\n",
      " -6.32126353e-02 -1.66289617e-02  0.00000000e+00  7.77266787e-03\n",
      " -0.00000000e+00 -3.04284084e-05  4.88510521e-03  5.51068436e-03\n",
      " -1.59720635e-04 -3.13612823e-03 -5.73410876e-04 -2.87330901e-03\n",
      "  1.31294260e-01 -0.00000000e+00 -4.56249776e-03 -0.00000000e+00\n",
      " -3.07330607e-03  0.00000000e+00 -8.67618163e-02  3.64699522e-03\n",
      "  2.89063998e-02 -5.95168675e-04 -1.96913672e-02 -3.28517701e-05\n",
      "  7.89431389e-03  4.20462849e-06 -1.24338904e-03 -6.03807508e-02\n",
      " -4.50092588e-04 -0.00000000e+00 -1.17571216e-05 -4.24112370e-04\n",
      "  3.07246948e-02]\n"
     ]
    }
   ],
   "source": [
    "print(lasso_r.coef_)"
   ]
  },
  {
   "cell_type": "markdown",
   "metadata": {},
   "source": [
    "## Student task"
   ]
  },
  {
   "cell_type": "code",
   "execution_count": null,
   "metadata": {},
   "outputs": [],
   "source": [
    "# Check if applying polynomial features and RFC can inprove quality of solution for \n",
    "# regression for datasets.load_diabetes()"
   ]
  }
 ],
 "metadata": {
  "kernelspec": {
   "display_name": "Python 3 (ipykernel)",
   "language": "python",
   "name": "python3"
  },
  "language_info": {
   "codemirror_mode": {
    "name": "ipython",
    "version": 3
   },
   "file_extension": ".py",
   "mimetype": "text/x-python",
   "name": "python",
   "nbconvert_exporter": "python",
   "pygments_lexer": "ipython3",
   "version": "3.8.13"
  }
 },
 "nbformat": 4,
 "nbformat_minor": 4
}
