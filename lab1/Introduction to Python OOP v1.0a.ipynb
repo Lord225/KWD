{
 "cells": [
  {
   "cell_type": "markdown",
   "metadata": {},
   "source": [
    "# Functions and classes in Python\n",
    "### Accepting a sequence of arbitrary length"
   ]
  },
  {
   "cell_type": "code",
   "execution_count": 1,
   "metadata": {},
   "outputs": [
    {
     "name": "stdout",
     "output_type": "stream",
     "text": [
      "argument_1: <class 'int'>\n",
      "argument_2: <class 'int'>\n",
      "argument_3: <class 'tuple'>\n",
      "1\n",
      "string\n",
      "((1, 2),)\n"
     ]
    }
   ],
   "source": [
    "def foo(argument_1, argument_2, *argument_3):\n",
    "    print('argument_1:', type(argument_1))\n",
    "    print('argument_2:', type(argument_1))\n",
    "    print('argument_3:', type(argument_3))\n",
    "    \n",
    "    print(argument_1)\n",
    "    print(argument_2)\n",
    "    print(argument_3)\n",
    "    \n",
    "foo(1,\"string\",(1,2))"
   ]
  },
  {
   "cell_type": "code",
   "execution_count": 2,
   "metadata": {},
   "outputs": [
    {
     "name": "stdout",
     "output_type": "stream",
     "text": [
      "arg:  Kazimierz\n",
      "arg:  10.0\n",
      "arg:  -1\n"
     ]
    }
   ],
   "source": [
    "def foo_1(*args):\n",
    "    for arg in args:\n",
    "        print(\"arg: \", arg)\n",
    "        \n",
    "foo_1(\"Kazimierz\", 10.0, -1)"
   ]
  },
  {
   "cell_type": "markdown",
   "metadata": {},
   "source": [
    "### Accepting an arbitrary number of keyword arguments"
   ]
  },
  {
   "cell_type": "code",
   "execution_count": 3,
   "metadata": {},
   "outputs": [
    {
     "name": "stdout",
     "output_type": "stream",
     "text": [
      "<class 'dict'>\n"
     ]
    }
   ],
   "source": [
    "def foo_3(**key_words):\n",
    "    print(type(key_words))\n",
    "    \n",
    "foo_3()"
   ]
  },
  {
   "cell_type": "code",
   "execution_count": 4,
   "metadata": {},
   "outputs": [
    {
     "name": "stdout",
     "output_type": "stream",
     "text": [
      "name : Kazimierz\n",
      "l_name : Kiełkowicz\n"
     ]
    }
   ],
   "source": [
    "def foo_4(**key_words):\n",
    "    for key, arg in key_words.items():\n",
    "        print(key, \":\", arg)\n",
    "        \n",
    "foo_4(name=\"Kazimierz\", l_name=\"Kiełkowicz\")"
   ]
  },
  {
   "cell_type": "code",
   "execution_count": 5,
   "metadata": {
    "scrolled": true
   },
   "outputs": [
    {
     "name": "stdout",
     "output_type": "stream",
     "text": [
      "Kazimierz\n",
      "------\n",
      "Kazimierz\n",
      "email : kkielkowicz@pk.edu.pl\n"
     ]
    }
   ],
   "source": [
    "def foo_5(name, **others):\n",
    "    print(name,)\n",
    "\n",
    "    for key, arg in others.items():\n",
    "        print(key, \":\", arg)\n",
    "\n",
    "foo_5(\"Kazimierz\")\n",
    "print(\"------\")\n",
    "foo_5(\"Kazimierz\", email=\"kkielkowicz@pk.edu.pl\")"
   ]
  },
  {
   "cell_type": "code",
   "execution_count": null,
   "metadata": {},
   "outputs": [],
   "source": [
    "def foo_6(*arg_list, **others):\n",
    "    for arg in arg_list:\n",
    "        print(arg)\n",
    "    for key in others:\n",
    "        print(key)\n",
    "\n",
    "foo_6(1,2,3,)\n",
    "print(\"------\")\n",
    "foo_6(1,2,3,name=\"Kazimierz\")\n",
    "print(\"------\")\n",
    "foo_6(name=\"Kazimierz\")"
   ]
  },
  {
   "cell_type": "code",
   "execution_count": null,
   "metadata": {},
   "outputs": [],
   "source": [
    "def foo_7(*arg_list,name=\"Kazimierz\", **others):\n",
    "    print(name)\n",
    "    for arg in arg_list:\n",
    "        print(arg)\n",
    "    for key in others:\n",
    "        print(key)\n",
    "\n",
    "foo_7(1,2)\n",
    "print(\"------\")\n",
    "foo_7(name=\"KK\")\n",
    "print(\"------\")\n",
    "foo_7(name=\"KK\", email=\"kkielkowicz@pk.edu.pl\")\n",
    "print(\"------\")\n",
    "foo_7(email=\"kkielkowicz@pk.edu.pl\")"
   ]
  },
  {
   "cell_type": "markdown",
   "metadata": {},
   "source": [
    "# OOP in Python"
   ]
  },
  {
   "cell_type": "code",
   "execution_count": null,
   "metadata": {},
   "outputs": [],
   "source": [
    "class Person():\n",
    "    pass"
   ]
  },
  {
   "cell_type": "code",
   "execution_count": null,
   "metadata": {},
   "outputs": [],
   "source": [
    "class Person():\n",
    "    def __init__(self):\n",
    "        print(\"Initializing Person.\")\n",
    "\n",
    "person = Person()"
   ]
  },
  {
   "cell_type": "code",
   "execution_count": null,
   "metadata": {},
   "outputs": [],
   "source": [
    "class Person():\n",
    "    def __init__(self, f_name=\"John\", l_name=\"Doe\"):\n",
    "        self.first_name = f_name\n",
    "        self.last_name = l_name\n",
    "\n",
    "person = Person()\n",
    "print(\"person.first_name =\",person.first_name)\n",
    "print(\"person.last_name =\",person.last_name)"
   ]
  },
  {
   "cell_type": "code",
   "execution_count": null,
   "metadata": {},
   "outputs": [],
   "source": [
    "class Person():\n",
    "    def __init__(self, f_name=\"John\", l_name=\"Doe\"):\n",
    "        self.first_name = f_name\n",
    "        self.last_name = l_name\n",
    "    \n",
    "    def to_string(self):\n",
    "        return \"My name is \" + self.first_name + \" \" + self.last_name\n",
    "\n",
    "person = Person()\n",
    "print(person.to_string())"
   ]
  },
  {
   "cell_type": "code",
   "execution_count": null,
   "metadata": {},
   "outputs": [],
   "source": [
    "class Person():\n",
    "    def __init__(self, f_name=\"John\", l_name=\"Doe\"):\n",
    "        self.first_name = f_name\n",
    "        self.last_name = l_name\n",
    "    \n",
    "    def __str__(self):\n",
    "        return \"My name is \" + self.first_name + \" \" + self.last_name\n",
    "\n",
    "person = Person()\n",
    "print(person)"
   ]
  },
  {
   "cell_type": "code",
   "execution_count": 6,
   "metadata": {},
   "outputs": [
    {
     "name": "stdout",
     "output_type": "stream",
     "text": [
      "True\n"
     ]
    }
   ],
   "source": [
    "class Person():\n",
    "    def __init__(self, f_name=\"John\", l_name=\"Doe\"):\n",
    "        self.first_name = f_name\n",
    "        self.last_name = l_name\n",
    "person = Person()\n",
    "\n",
    "print(isinstance(person,Person))"
   ]
  },
  {
   "cell_type": "code",
   "execution_count": null,
   "metadata": {},
   "outputs": [],
   "source": [
    "class Person():\n",
    "    race = \"Human\" #class variable\n",
    "    def __init__(self, f_name=\"John\", l_name=\"Doe\"):\n",
    "        self.first_name = f_name #instance variable\n",
    "        self.last_name = l_name\n",
    "person = Person()\n",
    "\n",
    "print(person.race)\n",
    "print(person.first_name)\n",
    "print(person.last_name)"
   ]
  },
  {
   "cell_type": "markdown",
   "metadata": {},
   "source": [
    "### Inheritance"
   ]
  },
  {
   "cell_type": "code",
   "execution_count": null,
   "metadata": {},
   "outputs": [],
   "source": [
    "class Person():\n",
    "    pass\n",
    "\n",
    "class Student(Person):\n",
    "    pass\n",
    "\n",
    "student = Student()\n",
    "print(student)"
   ]
  },
  {
   "cell_type": "code",
   "execution_count": 10,
   "metadata": {},
   "outputs": [
    {
     "name": "stdout",
     "output_type": "stream",
     "text": [
      "Jan Kowalski math 4.4 oop 2.5\n"
     ]
    }
   ],
   "source": [
    "class Person():\n",
    "    def __init__(self, f_name=\"John\", l_name=\"Doe\"):\n",
    "        self.first_name=f_name\n",
    "        self.last_name=l_name\n",
    "    def __str__(self):\n",
    "        return self.first_name + \" \" + self.last_name\n",
    "    \n",
    "class Student(Person):\n",
    "    def __init__(self, f_name=\"John\", l_name=\"Doe\", **grades):\n",
    "        super().__init__(f_name, l_name) \n",
    "        #Person.__init__(self, f_name,l_name)\n",
    "        self.grades=grades\n",
    "    \n",
    "    def __str__(self):\n",
    "        string = super().__str__()\n",
    "        for key,val in self.grades.items():\n",
    "            string+=\" \"+ str(key) + \" \" + str(val)\n",
    "        return string\n",
    "    \n",
    "    \n",
    "student = Student(f_name=\"Jan\", l_name=\"Kowalski\", math=4.4, oop=2.5)\n",
    "print(student)"
   ]
  },
  {
   "cell_type": "code",
   "execution_count": 11,
   "metadata": {},
   "outputs": [
    {
     "name": "stdout",
     "output_type": "stream",
     "text": [
      "John\n",
      "Doe\n"
     ]
    }
   ],
   "source": [
    "class Person():\n",
    "    def __init__(self, f_name=\"John\", l_name=\"Doe\"):\n",
    "        self.first_name=f_name\n",
    "        self.last_name=l_name\n",
    "\n",
    "class Student(Person):\n",
    "    pass\n",
    "\n",
    "print(Student().first_name)\n",
    "print(Student().last_name)"
   ]
  },
  {
   "cell_type": "code",
   "execution_count": 12,
   "metadata": {},
   "outputs": [
    {
     "name": "stdout",
     "output_type": "stream",
     "text": [
      "False\n",
      "False\n"
     ]
    }
   ],
   "source": [
    "print(isinstance(student, Student))\n",
    "print(isinstance(student, Person))"
   ]
  },
  {
   "cell_type": "code",
   "execution_count": null,
   "metadata": {},
   "outputs": [],
   "source": [
    "print(issubclass(Student, Person))"
   ]
  },
  {
   "cell_type": "code",
   "execution_count": 13,
   "metadata": {},
   "outputs": [
    {
     "name": "stdout",
     "output_type": "stream",
     "text": [
      "True\n"
     ]
    }
   ],
   "source": [
    "print(issubclass(Student, object))"
   ]
  },
  {
   "cell_type": "code",
   "execution_count": null,
   "metadata": {},
   "outputs": [],
   "source": [
    "class Person():\n",
    "    def __init__(self, f_name=\"John\", l_name=\"Doe\"):\n",
    "        self.first_name = f_name\n",
    "        self.last_name = l_name\n",
    "\n",
    "person1 = Person()\n",
    "person2 = Person()\n",
    "\n",
    "print(person1 == person2)"
   ]
  },
  {
   "cell_type": "code",
   "execution_count": null,
   "metadata": {},
   "outputs": [],
   "source": [
    "print(isinstance(Person, object))\n",
    "print(Person.__bases__)"
   ]
  },
  {
   "cell_type": "markdown",
   "metadata": {},
   "source": [
    "### Multiple inheritance"
   ]
  },
  {
   "cell_type": "code",
   "execution_count": 14,
   "metadata": {},
   "outputs": [
    {
     "name": "stdout",
     "output_type": "stream",
     "text": [
      "True\n",
      "True\n",
      "(<class '__main__.Student'>, <class '__main__.Person'>, <class '__main__.Human'>, <class 'object'>)\n"
     ]
    }
   ],
   "source": [
    "class Person():\n",
    "    pass\n",
    "\n",
    "class Human():\n",
    "    pass\n",
    "\n",
    "class Student(Person, Human):\n",
    "    pass\n",
    "\n",
    "print(isinstance(Student(), Person))\n",
    "print(isinstance(Student(), Human))\n",
    "print(Student.__mro__) #method resolution order"
   ]
  },
  {
   "cell_type": "markdown",
   "metadata": {},
   "source": [
    "### Adding and removing fields dynamically "
   ]
  },
  {
   "cell_type": "code",
   "execution_count": null,
   "metadata": {},
   "outputs": [],
   "source": [
    "class Person():\n",
    "    def __init__(self, f_name=\"John\", l_name=\"Doe\"):\n",
    "        self.first_name = f_name\n",
    "        self.last_name = l_name\n",
    "person = Person()\n",
    "\n",
    "del person.last_name #  del property of a class\n",
    "# print(person.last_name) #will return error\n",
    "del person  #del instance \n",
    "# print(isinstance(person,Person)) # will return error"
   ]
  },
  {
   "cell_type": "code",
   "execution_count": null,
   "metadata": {},
   "outputs": [],
   "source": [
    "class Person():\n",
    "    def __init__(self, f_name=\"John\", l_name=\"Doe\"):\n",
    "        self.first_name = f_name\n",
    "        self.last_name = l_name\n",
    "\n",
    "person1 = Person()\n",
    "person2 = Person()\n",
    "\n",
    "person2.age = \"Unknown\"\n",
    "\n",
    "print(person2.age)\n",
    "# print(person.age) #error, person instance doesn't have \"age\" field"
   ]
  },
  {
   "cell_type": "code",
   "execution_count": 15,
   "metadata": {},
   "outputs": [
    {
     "data": {
      "text/plain": [
       "['__class__',\n",
       " '__delattr__',\n",
       " '__dict__',\n",
       " '__dir__',\n",
       " '__doc__',\n",
       " '__eq__',\n",
       " '__format__',\n",
       " '__ge__',\n",
       " '__getattribute__',\n",
       " '__gt__',\n",
       " '__hash__',\n",
       " '__init__',\n",
       " '__init_subclass__',\n",
       " '__le__',\n",
       " '__lt__',\n",
       " '__module__',\n",
       " '__ne__',\n",
       " '__new__',\n",
       " '__reduce__',\n",
       " '__reduce_ex__',\n",
       " '__repr__',\n",
       " '__setattr__',\n",
       " '__sizeof__',\n",
       " '__str__',\n",
       " '__subclasshook__',\n",
       " '__weakref__']"
      ]
     },
     "execution_count": 15,
     "metadata": {},
     "output_type": "execute_result"
    }
   ],
   "source": [
    "dir(Person)"
   ]
  },
  {
   "cell_type": "code",
   "execution_count": null,
   "metadata": {
    "scrolled": true
   },
   "outputs": [],
   "source": [
    "dir(person1)"
   ]
  },
  {
   "cell_type": "markdown",
   "metadata": {},
   "source": [
    "### str() float() int() range() ... are all classes! "
   ]
  },
  {
   "cell_type": "code",
   "execution_count": null,
   "metadata": {},
   "outputs": [],
   "source": [
    "print(issubclass(str, object))\n",
    "print(issubclass(float, object))\n",
    "print(issubclass(int, object))\n",
    "print(issubclass(range, object))\n"
   ]
  },
  {
   "cell_type": "code",
   "execution_count": 16,
   "metadata": {},
   "outputs": [
    {
     "name": "stdout",
     "output_type": "stream",
     "text": [
      "True\n",
      "True\n",
      "True\n"
     ]
    }
   ],
   "source": [
    "print(isinstance(\"\", object))\n",
    "\n",
    "def foo():\n",
    "    pass\n",
    "\n",
    "print(isinstance(foo, object)) # Function objects in Python\n",
    "print(isinstance(print, object))"
   ]
  },
  {
   "cell_type": "code",
   "execution_count": 17,
   "metadata": {},
   "outputs": [
    {
     "name": "stdout",
     "output_type": "stream",
     "text": [
      "True\n",
      "True\n"
     ]
    }
   ],
   "source": [
    "print(isinstance(isinstance, object))\n",
    "\n",
    "print(isinstance(issubclass, object))"
   ]
  },
  {
   "cell_type": "code",
   "execution_count": 18,
   "metadata": {},
   "outputs": [
    {
     "data": {
      "text/plain": [
       "['__annotations__',\n",
       " '__call__',\n",
       " '__class__',\n",
       " '__closure__',\n",
       " '__code__',\n",
       " '__defaults__',\n",
       " '__delattr__',\n",
       " '__dict__',\n",
       " '__dir__',\n",
       " '__doc__',\n",
       " '__eq__',\n",
       " '__format__',\n",
       " '__ge__',\n",
       " '__get__',\n",
       " '__getattribute__',\n",
       " '__globals__',\n",
       " '__gt__',\n",
       " '__hash__',\n",
       " '__init__',\n",
       " '__init_subclass__',\n",
       " '__kwdefaults__',\n",
       " '__le__',\n",
       " '__lt__',\n",
       " '__module__',\n",
       " '__name__',\n",
       " '__ne__',\n",
       " '__new__',\n",
       " '__qualname__',\n",
       " '__reduce__',\n",
       " '__reduce_ex__',\n",
       " '__repr__',\n",
       " '__setattr__',\n",
       " '__sizeof__',\n",
       " '__str__',\n",
       " '__subclasshook__']"
      ]
     },
     "execution_count": 18,
     "metadata": {},
     "output_type": "execute_result"
    }
   ],
   "source": [
    "dir(foo) # Function object methods"
   ]
  },
  {
   "cell_type": "code",
   "execution_count": 19,
   "metadata": {},
   "outputs": [
    {
     "data": {
      "text/plain": [
       "'Hello! My name is: Function object; and arg is First arg'"
      ]
     },
     "execution_count": 19,
     "metadata": {},
     "output_type": "execute_result"
    }
   ],
   "source": [
    "class callme(object):\n",
    "    def __init__(self, name):\n",
    "        self.name=name\n",
    "    def __call__(self, arg):\n",
    "        return \"Hello! My name is: \" + self.name + \"; and arg is \" + arg\n",
    "\n",
    "callme(\"Function object\")(\"First arg\")"
   ]
  },
  {
   "cell_type": "code",
   "execution_count": 20,
   "metadata": {},
   "outputs": [
    {
     "name": "stdout",
     "output_type": "stream",
     "text": [
      "True\n",
      "Hello world\n",
      "From function\n"
     ]
    }
   ],
   "source": [
    "def bar():\n",
    "    print(\"Hello world\")\n",
    "    \n",
    "    def __eq__(other):\n",
    "        return True\n",
    "   \n",
    "    def foo():\n",
    "        print(\"From function\")\n",
    "    \n",
    "    foo()\n",
    "    \n",
    "print(bar==bar)\n",
    "\n",
    "bar.new_field=10\n",
    "dir(bar)\n",
    "\n",
    "bar()"
   ]
  },
  {
   "cell_type": "markdown",
   "metadata": {},
   "source": [
    "Closures and Factory Functions example form https://realpython.com/inner-functions-what-are-they-good-for"
   ]
  },
  {
   "cell_type": "code",
   "execution_count": 21,
   "metadata": {},
   "outputs": [
    {
     "name": "stdout",
     "output_type": "stream",
     "text": [
      "'Admin' does have access to Admin Area.\n",
      "'Not Admin' does NOT have access to Admin Area.\n"
     ]
    }
   ],
   "source": [
    "#Closures and Factory Functions\n",
    "def has_permission(page):\n",
    "    def inner(username):\n",
    "        if username == 'Admin':\n",
    "            return \"'{0}' does have access to {1}.\".format(username, page)\n",
    "        else:\n",
    "            return \"'{0}' does NOT have access to {1}.\".format(username, page)\n",
    "    return inner\n",
    "\n",
    "\n",
    "current_user = has_permission('Admin Area')\n",
    "print(current_user('Admin'))\n",
    "\n",
    "random_user = has_permission('Admin Area')\n",
    "print(random_user('Not Admin'))"
   ]
  },
  {
   "cell_type": "markdown",
   "metadata": {},
   "source": [
    "## Student exercise"
   ]
  },
  {
   "cell_type": "markdown",
   "metadata": {},
   "source": [
    "Define a class *Rocket* with *name* and *fule* attributes. Class Rocket should inherit from class *Position*. Class *Position* should have *position_x* and *position_y* fields and printing methods. \n",
    "\n",
    "Class *Rocket* should also have methods to move rocket and print rocket position and fule level. Each move should decrease rocket fuel level by 1. \n",
    "\n",
    "Initialize a collection of Rockets and iterate over it moving them around. Each instance of a Rocket should be initialize with different fuel level and explode when fuel level is below 0."
   ]
  },
  {
   "cell_type": "code",
   "execution_count": null,
   "metadata": {},
   "outputs": [],
   "source": []
  }
 ],
 "metadata": {
  "kernelspec": {
   "display_name": "Python 3 (ipykernel)",
   "language": "python",
   "name": "python3"
  },
  "language_info": {
   "codemirror_mode": {
    "name": "ipython",
    "version": 3
   },
   "file_extension": ".py",
   "mimetype": "text/x-python",
   "name": "python",
   "nbconvert_exporter": "python",
   "pygments_lexer": "ipython3",
   "version": "3.8.13"
  },
  "vscode": {
   "interpreter": {
    "hash": "aee8b7b246df8f9039afb4144a1f6fd8d2ca17a180786b69acc140d282b71a49"
   }
  }
 },
 "nbformat": 4,
 "nbformat_minor": 2
}
