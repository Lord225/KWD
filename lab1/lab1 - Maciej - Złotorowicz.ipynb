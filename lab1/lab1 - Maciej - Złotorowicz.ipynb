{
 "cells": [
  {
   "cell_type": "markdown",
   "metadata": {},
   "source": [
    "# Posortuj tablicę\n",
    "### w najbardziej leniwy sposób"
   ]
  },
  {
   "cell_type": "code",
   "execution_count": 4,
   "metadata": {},
   "outputs": [
    {
     "data": {
      "text/plain": [
       "[67, 23, 10, 8, 6, 5, 2, 1]"
      ]
     },
     "execution_count": 4,
     "metadata": {},
     "output_type": "execute_result"
    }
   ],
   "source": [
    "sorted([1, 5, 6, 10, 23, 67, 2, 8], reverse=True) # szybsza\n",
    "sorted([1, 5, 6, 10, 23, 67, 2, 8])[::-1]         # leniwsza, mniej pisania"
   ]
  },
  {
   "cell_type": "markdown",
   "metadata": {},
   "source": [
    "# Książka adersowa"
   ]
  },
  {
   "cell_type": "markdown",
   "metadata": {},
   "source": [
    "Import potrzebnych bilbiotek, interesuje mnie `pprint` ułatwiający formatowanie kontenerów pythona i `typing` do silniejszego typowania "
   ]
  },
  {
   "cell_type": "code",
   "execution_count": 5,
   "metadata": {},
   "outputs": [],
   "source": [
    "import pprint\n",
    "from typing import Union"
   ]
  },
  {
   "cell_type": "markdown",
   "metadata": {},
   "source": [
    "Definiowanie wymaganych funkcji. Zaznaczam że:\n",
    "* `add_contact_to` przyjmuje zarówno `dict` jak i `list` jako argumenty więc wywołania:\n",
    "```python\n",
    "add_contact_to(contact)\n",
    "add_contact_to([contact1, contact2, contact3])\n",
    "```\n",
    "* `add_contact_to` zawsze waliduje wszystkie kontakty, oczekując pól **first_name**, **last_name** i **contact**\n",
    "* `search_contact_in` i `print_all_contacts` są napisane w jednej linijce\n"
   ]
  },
  {
   "cell_type": "code",
   "execution_count": 6,
   "metadata": {},
   "outputs": [],
   "source": [
    "\n",
    "def print_all_contacts(adress_book: list):\n",
    "    pprint.pprint(adress_book)\n",
    "def add_contact_to(address_book: list[dict], new_contact: Union[list, dict]):\n",
    "    contact = [new_contact] if type(new_contact) is dict else new_contact\n",
    "\n",
    "    def validate(contact: dict):\n",
    "        if not isinstance(contact, dict):\n",
    "            raise TypeError('Contact must be a dict')\n",
    "        if 'first_name' not in contact:\n",
    "            raise ValueError('Contact must have a first name')\n",
    "        if 'last_name' not in contact:\n",
    "            raise ValueError('Contact must have a last name')\n",
    "        if 'email' not in contact:\n",
    "            raise ValueError('Contact must have email')\n",
    "    \n",
    "    # Validate Contacts\n",
    "    for c in contact:\n",
    "        validate(c)\n",
    "        \n",
    "    # Add Contact\n",
    "    address_book.extend(contact)\n",
    "\n",
    "def search_contact_in(address_book: list, search_term: dict):\n",
    "    # Search key in address book and return the contact\n",
    "    return [contact for contact in address_book if all(contact[k] == v for k, v in search_term.items() if k in contact)]"
   ]
  },
  {
   "cell_type": "code",
   "execution_count": 7,
   "metadata": {},
   "outputs": [
    {
     "name": "stdout",
     "output_type": "stream",
     "text": [
      "[]\n",
      "[{'email': 'kkielkowicz@pk.edu.pl',\n",
      "  'first_name': 'Kazimierz',\n",
      "  'last_name': 'Kiełkowicz'},\n",
      " {'email': 'zlotymaciej@gmail.com',\n",
      "  'first_name': 'Maciej',\n",
      "  'last_name': 'Zlotorowicz'}]\n"
     ]
    }
   ],
   "source": [
    "address_book=[]\n",
    "\n",
    "contact_1={\"first_name\": \"Kazimierz\", \"last_name\": \"Kiełkowicz\", \"email\":\"kkielkowicz@pk.edu.pl\"}\n",
    "contact_2={\"first_name\": \"Maciej\", \"last_name\": \"Zlotorowicz\", \"email\":\"zlotymaciej@gmail.com\"}\n",
    "\n",
    "print_all_contacts(address_book)\n",
    "\n",
    "add_contact_to(address_book, [contact_1, contact_2]) \n",
    "\n",
    "print_all_contacts(address_book)"
   ]
  },
  {
   "cell_type": "code",
   "execution_count": 8,
   "metadata": {},
   "outputs": [
    {
     "data": {
      "text/plain": [
       "[{'first_name': 'Kazimierz',\n",
       "  'last_name': 'Kiełkowicz',\n",
       "  'email': 'kkielkowicz@pk.edu.pl'}]"
      ]
     },
     "execution_count": 8,
     "metadata": {},
     "output_type": "execute_result"
    }
   ],
   "source": [
    "search_contact_in(address_book, {\"first_name\":\"Kazimierz\"})"
   ]
  },
  {
   "cell_type": "code",
   "execution_count": 9,
   "metadata": {},
   "outputs": [
    {
     "data": {
      "text/plain": [
       "[]"
      ]
     },
     "execution_count": 9,
     "metadata": {},
     "output_type": "execute_result"
    }
   ],
   "source": [
    "search_contact_in(address_book, {\"last_name\":\"Kazimierz\"}) "
   ]
  },
  {
   "cell_type": "code",
   "execution_count": 10,
   "metadata": {},
   "outputs": [
    {
     "data": {
      "text/plain": [
       "[{'first_name': 'Kazimierz',\n",
       "  'last_name': 'Kiełkowicz',\n",
       "  'email': 'kkielkowicz@pk.edu.pl'}]"
      ]
     },
     "execution_count": 10,
     "metadata": {},
     "output_type": "execute_result"
    }
   ],
   "source": [
    "search_contact_in(address_book, {\"email\":\"kkielkowicz@pk.edu.pl\"})"
   ]
  },
  {
   "cell_type": "markdown",
   "metadata": {},
   "source": [
    "# Klasa Rocket & Position\n",
    "Definicja klasy `Position` przetrzymuje `x` i `y` i przeciąża kilka operatorów. \n",
    "Klasa Rocket dziedziczy po `Position` i dokłada swoje pola `name` i `fuel`. Funkcja move rusza statek i zmniejsza ilość paliwa."
   ]
  },
  {
   "cell_type": "code",
   "execution_count": 11,
   "metadata": {},
   "outputs": [],
   "source": [
    "class Position:\n",
    "    def __init__(self, x: int = 0, y: int = 0):\n",
    "        self.x = x\n",
    "        self.y = y\n",
    "    def __add__(self, other):\n",
    "        return Position(self.x + other.x, self.y + other.y)\n",
    "    def __str__(self):\n",
    "        return f'x: {self.x}, y: {self.y}'\n",
    "    def __repr__(self):\n",
    "        return f'Position(x={self.x}, y={self.y})'"
   ]
  },
  {
   "cell_type": "code",
   "execution_count": 12,
   "metadata": {},
   "outputs": [],
   "source": [
    "class Rocket(Position):\n",
    "    def __init__(self, name: str, fuel: int = 10, x: int = 0, y: int = 0):\n",
    "        super().__init__(x, y)\n",
    "        self.name = name\n",
    "        self.fuel = fuel\n",
    "    def move(self, direction: Position):\n",
    "        if self.fuel < 1:\n",
    "            raise RuntimeError(f\"Rocket '{self}' has no fuel 💥 Exploads 💥\")\n",
    "        self.fuel -= 1\n",
    "        self += direction\n",
    "    def __str__(self):\n",
    "        return f'Rocket {self.name} at {super().__str__()}'\n",
    "    def __repr__(self):\n",
    "        return f'Rocket(name={self.name}, fuel={self.fuel}, x={self.x}, y={self.y})'"
   ]
  },
  {
   "cell_type": "code",
   "execution_count": 13,
   "metadata": {},
   "outputs": [
    {
     "name": "stdout",
     "output_type": "stream",
     "text": [
      "[Rocket(name=R1, fuel=3, x=0, y=0),\n",
      " Rocket(name=R2, fuel=3, x=0, y=0),\n",
      " Rocket(name=R3, fuel=8, x=0, y=0),\n",
      " Rocket(name=R4, fuel=5, x=0, y=0),\n",
      " Rocket(name=R5, fuel=9, x=0, y=0),\n",
      " Rocket(name=R6, fuel=5, x=0, y=0),\n",
      " Rocket(name=R7, fuel=9, x=0, y=0),\n",
      " Rocket(name=R8, fuel=5, x=0, y=0),\n",
      " Rocket(name=R9, fuel=8, x=0, y=0),\n",
      " Rocket(name=R10, fuel=8, x=0, y=0)]\n",
      "Rocket 🚀 'Rocket R1 at x: 0, y: 0' has no fuel 💥 Exploads 💥\n",
      "Rocket 🚀 'Rocket R2 at x: 0, y: 0' has no fuel 💥 Exploads 💥\n",
      "Rocket 🚀 'Rocket R4 at x: 0, y: 0' has no fuel 💥 Exploads 💥\n",
      "Rocket 🚀 'Rocket R6 at x: 0, y: 0' has no fuel 💥 Exploads 💥\n",
      "Rocket 🚀 'Rocket R8 at x: 0, y: 0' has no fuel 💥 Exploads 💥\n",
      "Rocket 🚀 'Rocket R10 at x: 0, y: 0' has no fuel 💥 Exploads 💥\n",
      "Rocket 🚀 'Rocket R3 at x: 0, y: 0' has no fuel 💥 Exploads 💥\n",
      "Rocket 🚀 'Rocket R9 at x: 0, y: 0' has no fuel 💥 Exploads 💥\n",
      "Rocket 🚀 'Rocket R7 at x: 0, y: 0' has no fuel 💥 Exploads 💥\n",
      "Rocket 🚀 'Rocket R5 at x: 0, y: 0' has no fuel 💥 Exploads 💥\n"
     ]
    }
   ],
   "source": [
    "from random import randint\n",
    "\n",
    "rockets = [Rocket(f'R{i}', randint(1, 10)) for i in range(1, 11)]\n",
    "pprint.pprint(rockets)\n",
    "\n",
    "while len(rockets) != 0:\n",
    "    for rocket in rockets:\n",
    "        try:\n",
    "            rocket.move(Position(randint(-1, 1), randint(-1, 1)))\n",
    "        except RuntimeError as err:\n",
    "            print(err)\n",
    "            rockets.remove(rocket)"
   ]
  }
 ],
 "metadata": {
  "kernelspec": {
   "display_name": "Python 3.9.12 ('base')",
   "language": "python",
   "name": "python3"
  },
  "language_info": {
   "codemirror_mode": {
    "name": "ipython",
    "version": 3
   },
   "file_extension": ".py",
   "mimetype": "text/x-python",
   "name": "python",
   "nbconvert_exporter": "python",
   "pygments_lexer": "ipython3",
   "version": "3.9.12"
  },
  "orig_nbformat": 4,
  "vscode": {
   "interpreter": {
    "hash": "a3f3c870ccc3fe58f140ce64581ec8eaa0605a9d9788d0734c700f5795092453"
   }
  }
 },
 "nbformat": 4,
 "nbformat_minor": 2
}
