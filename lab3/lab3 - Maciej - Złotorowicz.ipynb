{
 "cells": [
  {
   "cell_type": "markdown",
   "metadata": {},
   "source": [
    "# Regresja Logistyczna\n",
    "\n",
    "Zadanie regresji logistycznej polega na przewidywaniu **prawdopodobieństwa że dana próbka należy do danej klasy**. Czyli wynikiem działania takiego modelu jest liczba z przedziału $[0,1]$.\n",
    "\n",
    "Przykładowo zadanie klasyfikując czy student zda egzamin na podstawie ilości godzin spędzonych na studiowaniu\n",
    "\n",
    "| Ilość godzin    | 0.25 | 1 | 2.4 | 2.5 | 3 | 3.2 | 4 | 4.5 | 5 |\n",
    "|-----------------|------|---|-----|-----|---|-----|---|-----|---|\n",
    "| Zdanie Egzaminu | 0    | 0 | 0   | 1   | 0 | 1   | 1 | 1   | 1 |\n",
    "\n",
    "Aby zmapować przestrzeń liczb rzeczywistych na przedział $[0,1]$ używamy funkcji sigmoidalnej\n",
    "$$\n",
    "\\sigma(x) = \\frac{1}{1+e^{-x}}\n",
    "$$ \n",
    "Jest to bardzo popularna funkcja która dla skaranie wysokich/niskich wartości zwraca $0$ albo $1$ (\"Nasyca się\") i $0.5$ dla wartości bliskich zeru.\n",
    "\n",
    "Funkcja $e^{-x} + 1$ dąży do $1$ dla $x \\to \\infty$ i $e^x + 1$ dąży do $\\infty$ dla $x \\to -\\infty$. To sprawia że odwrotność tej funkcji dąży do $1/1=1$ dla $x \\to \\infty$ i $1/\\infty=0$ dla $x \\to -\\infty$.\n",
    "\n",
    "Wartości tej funkcji można traktować jak prawdopodobieństwa przynależenia danej próbki do klasy. W przypadku wielu klas należy wytrenować kilka klasyfikatorów rozpoznająchc prawdopodobieństwo przynależenia do danej klasy i wybrać tę klasę która ma największe prawdopodobieństwo.\n",
    "\n",
    "Jest ona przedstawiona na poniższym wykresie"
   ]
  },
  {
   "cell_type": "code",
   "execution_count": 98,
   "metadata": {},
   "outputs": [
    {
     "data": {
      "text/plain": [
       "[<matplotlib.lines.Line2D at 0x23102dd3a30>]"
      ]
     },
     "execution_count": 98,
     "metadata": {},
     "output_type": "execute_result"
    },
    {
     "data": {
      "image/png": "[encoded data removed]",
      "text/plain": [
       "<Figure size 432x288 with 1 Axes>"
      ]
     },
     "metadata": {
      "needs_background": "light"
     },
     "output_type": "display_data"
    }
   ],
   "source": [
    "import numpy as np\n",
    "import matplotlib.pyplot as plt\n",
    "\n",
    "x = np.linspace(-5, 5, 100)\n",
    "sig = lambda x: 1 / (1 + np.exp(-x))\n",
    "plt.grid()\n",
    "plt.yticks(np.arange(0, 1.5, 0.5))\n",
    "plt.title(\"σ(x)\", fontsize=20)\n",
    "plt.plot(x, sig(x))"
   ]
  },
  {
   "cell_type": "markdown",
   "metadata": {},
   "source": [
    "Do obliczenia gradientów potrzebna jest pochodna funkcji $\\sigma(x)$ którą można łatwo obliczyć korzystając między innymi z tych dwóch twierdzeń:\n",
    "* $[\\frac{1}{u(x)}]' = -u(x)^{-2}u'(x)$\n",
    "* $e^{u(x)} = u'(x)*e^{u(x)}$\n",
    "\n",
    "$$\n",
    "\\begin{align*} \n",
    "\\sigma'(x) & = \\frac{\\partial }{\\partial x}\\sigma (x) = \\frac{\\partial}{\\partial x} (1+e^{-x})^{-1} \\\\\n",
    "\\sigma'(x) & = -(1+e^{-x})^{-2} \\cdot \\frac{\\partial}{\\partial x} (1+e^{-x}) \\\\\n",
    "\\sigma'(x) & = -(1+e^{-x})^{-2} \\cdot (-e^{-x}) \\\\\n",
    "\\sigma'(x) & = \\frac{e^{-x}}{(1+e^{-x})^2} \\\\\n",
    "\\sigma'(x) & = \\frac{1}{1+e^{-x}} \\cdot \\frac{e^{-x}}{1+e^{-x}} \\\\\n",
    "\\sigma'(x) & = \\frac{1}{1+e^{-x}} \\cdot \\frac{1+e^{-x}-1}{1+e^{-x}} \\\\\n",
    "\\sigma'(x) & = \\frac{1}{1+e^{-x}} \\cdot (\\frac{1+e^{-x}}{1+e^{-x}} + \\frac{1}{1+e^{-x}}) \\\\\n",
    "\\sigma'(x) & = \\frac{1}{1+e^{-x}} \\cdot (1 + \\frac{1}{1+e^{-x}}) \\\\\n",
    "\\sigma'(x) & = \\sigma(x) \\cdot (1-\\sigma(x))\n",
    "\\end{align*} \n",
    "$$\n",
    "\n",
    "Pochodna tej funkcji jest bardzo prosta i do jej obliczenia potrzebna jest wartość samej funkcji i to w jedym punkcie, więc obliczenie pochodnej wymaga jedynie jednego wywołania funkcji sigmoidalnej.\n",
    "\n",
    "Niżej przedstawiono wykres pochodnej funkcji sigmoidalnej."
   ]
  },
  {
   "cell_type": "code",
   "execution_count": 99,
   "metadata": {},
   "outputs": [
    {
     "data": {
      "text/plain": [
       "[<matplotlib.lines.Line2D at 0x23102e1e7c0>]"
      ]
     },
     "execution_count": 99,
     "metadata": {},
     "output_type": "execute_result"
    },
    {
     "data": {
      "image/png": "[encoded data removed]",
      "text/plain": [
       "<Figure size 432x288 with 1 Axes>"
      ]
     },
     "metadata": {
      "needs_background": "light"
     },
     "output_type": "display_data"
    }
   ],
   "source": [
    "plt.grid()\n",
    "plt.title(\"σ'(x)=σ(x)(1-σ(x))\", fontsize=20)\n",
    "plt.plot(x, sig(x)*(1-sig(x)))"
   ]
  },
  {
   "cell_type": "markdown",
   "metadata": {},
   "source": [
    "## Obliczanie gradientów\n",
    "Teraz mając pochodną funkcji sigmoidalnej i wiedząc jak działa regresja liniowa możemy zdefiniować regresję logistyczną i trenować podobnie jak w przypadku regresji liniowej! \n",
    "\n",
    "$$\n",
    "\\begin{align*}\n",
    "\\hat{y} & = \\sigma(w^Tx) \\\\\n",
    "\\hat{y} & = \\sigma(w_0 + w_1x_1 + w_2x_2 + \\dots + w_nx_n) \\\\\n",
    "\\hat{y} & = \\sigma(w_0 + \\sum_{i=1}^n w_ix_i) \\\\\n",
    "\\end{align*}\n",
    "$$\n",
    "\n",
    "Aby wytrenować model należy na nowo policzyć gradienty z uzwględnieniem nowej funkcji kosztu i funkcji aktywacji (sigmoidalnej).\n",
    "\n",
    "## Funkcja kosztu\n",
    "\n",
    "$$\n",
    "\\begin{align*}\n",
    "x^i &= \\Reals^n \\\\\n",
    "h_\\theta(x) &= \\sigma(\\theta^Tx) \\\\\n",
    "\\end{align*}\n",
    "$$\n",
    "\n",
    "Funkcja kosztu musi być różniczkowalna i maksymalizować prawdopodobieństwo przynależności do danej klasy. W przypadku regresji logistycznej jest to funkcja logarytmu prawdopodobieństwa.\n",
    "\n",
    "Ze względu na binarność wejścia jest ona zdefiniowana w postaci warunku.\n",
    "$$\n",
    "J_\\theta(x, y) = \n",
    "\\begin{cases}\n",
    "-log(h_\\theta(x)) & \\text{if } y = 1 \\\\\n",
    "-log(1-h_\\theta(x)) & \\text{if } y = 0\n",
    "\\end{cases}\n",
    "$$\n",
    "\n",
    "Aby zapisać ją w postaci bardziej wektoryzowalnej można warunek zamienić na mnożenie i sumę.\n",
    "\n",
    "$$\n",
    "\\begin{align*}\n",
    "J_\\theta(x, y) &= -\\frac{1}{m} \\sum_{i=1}^m \n",
    "\\left[ \n",
    "    \\underbrace{y^i \\log(h_\\theta(x^i))}\n",
    "    _{\\text{if } y = 1} \n",
    "    + \n",
    "    \\underbrace{(1-y^i) \\log(1-h_\\theta(x^i))}\n",
    "    _{\\text{if } y = 0}\n",
    "\\right] \\\\\n",
    "\\end{align*}\n",
    "$$\n",
    "\n",
    "## Gradient\n",
    "\n",
    "Dalej, należy tą funkcje zróżniczkować po $\\theta$ aby uzyskać gradienty.\n",
    "\n",
    "$$\n",
    "\\begin{align*}\n",
    "\\frac{\\partial}{\\partial \\theta_j} J_\\theta(x, y) &= \\frac{\\partial}{\\partial \\theta_j} \\left( -\\frac{1}{m} \\sum_{i=1}^m \\left[ y^i \\log(h_\\theta(x^i)) + (1-y^i) \\log(1-h_\\theta(x^i)) \\right] \\right) \\\\\n",
    "\\end{align*}\n",
    "$$\n",
    "\n",
    "Pierwszym krokiem jest wyjęcie sumy poza różniczkę i rozbicie na dwie części.\n",
    "\n",
    "$$\n",
    "\\begin{align*}\n",
    "\\frac{\\partial}{\\partial \\theta_j} J_\\theta(x, y) &= -\\frac{1}{m} \\sum_{i=1}^m \n",
    "\\left[\\frac{\\partial}{\\partial \\theta_j} \\left( y^i \\log(h_\\theta(x^i)) \\right) + \\frac{\\partial}{\\partial \\theta_j} \\left( (1-y^i) \\log(1-h_\\theta(x^i)) \\right) \n",
    "\\right] \\\\\n",
    "\\end{align*}\n",
    "$$\n",
    "\n",
    "I do uproszczenia zapisu zapiszemy jedynie część z logarytmem.\n",
    "\n",
    "$$\n",
    "\\begin{align*}\n",
    "\\frac{\\partial}{\\partial \\theta_j} & (   y^i  \\log(h_  \\theta(x^i))) & (1)\\\\\n",
    "\\frac{\\partial}{\\partial \\theta_j} & ((1-y^i) \\log(1-h_\\theta(x^i))) & (2)\\\\\n",
    "\\end{align*}\n",
    "$$\n",
    "\n",
    "## Chain rule\n",
    "Pochodną $\\log(x)$ jest $\\frac{1}{x}$, a **chain rule** pozwala nam składać funkcje ze sobą:\n",
    "\n",
    "$$\n",
    "\\begin{align*}\n",
    "\\frac{\\partial}{\\partial x} \\left( f(g(x)) \\right) &= f'(g(x)) \\cdot g'(x) \\\\\n",
    "\\end{align*}\n",
    "$$\n",
    "\n",
    "## Rozbicie na części\n",
    "\n",
    "W przypadku $(1)$ mamy:\n",
    "\n",
    "$$\n",
    "\\begin{align*}\n",
    "\\frac{\\partial}{\\partial \\theta_j} \\left( y^i \\log(h_\\theta(x^i)) \\right) &= y^i \\cdot \\frac{1}{h_\\theta(x^i)} \\cdot \\frac{\\partial}{\\partial \\theta_j} h_\\theta(x^i) \\\\\n",
    "\\end{align*}\n",
    "$$\n",
    "\n",
    "W przypadku $(2)$ mamy:\n",
    "\n",
    "$$\n",
    "\\begin{align*}\n",
    "\\frac{\\partial}{\\partial \\theta_j} \\left( (1-y^i) \\log(1-h_\\theta(x^i)) \\right) &= (1-y^i) \\cdot \\frac{1}{1-h_\\theta(x^i)} \\cdot \\frac{\\partial}{\\partial \\theta_j} h_\\theta(x^i) \\\\\n",
    "\\end{align*}\n",
    "$$\n",
    "\n",
    "\n",
    "Pochodną $h_\\theta(x)$ jest \n",
    "$\n",
    "    \\frac{\\partial}{\\partial \\theta_j} h_\\theta(x) = \n",
    "    \\frac{\\partial}{\\partial \\theta_j} \\sigma(\\theta^T x)\n",
    "$ \n",
    "\n",
    "aby ją obliczyć trzeba użyć reguły łańcuchowej.\n",
    "\n",
    "$$\n",
    "\\begin{align*}\n",
    "\\frac{\\partial}{\\partial \\theta_j} h_\\theta(x) &= \\frac{\\partial}{\\partial \\theta_j} \\sigma(\\theta^T x) \\\\\n",
    "&= \\sigma(\\theta^T x) \\cdot (1 - \\sigma(\\theta^T x)) \\cdot \\frac{\\partial}{\\partial \\theta_j} \\theta^T x \\\\\n",
    "&= h_\\theta(x) \\cdot (1 - h_\\theta(x)) \\cdot x_j \\\\\n",
    "\\end{align*}\n",
    "$$\n",
    "\n",
    "$\\frac{\\partial}{\\partial \\theta_j} \\theta^T x$ wynika z faktu że można zapisać jako sumę pochodnych \n",
    "$\\frac{\\partial}{\\partial \\theta_j} \\sum_{i=1}^n \\theta_i x_i =\n",
    " \\frac{\\partial}{\\partial \\theta_j} \\theta_1 x_1 + \n",
    " \\frac{\\partial}{\\partial \\theta_j} \\theta_2 x_2 + \n",
    " \\cdots + \n",
    " \\frac{\\partial}{\\partial \\theta_j} \\theta_n x_n = \n",
    " \\frac{\\partial}{\\partial \\theta_j} \\theta_j x_j = x_j$\n",
    "\n",
    "prawie wszystkie pochodne upraszczają się do zera poza $j$-tą.\n",
    "\n",
    "### Przypadek 1\n",
    "\n",
    "Mając tą informacje można zrobić podstawienie i uzyskać w $(1)$ przypadku:\n",
    "$$\n",
    "\\begin{align*}\n",
    "\\frac{\\partial}{\\partial \\theta_j} \\left( y^i \\log(h_\\theta(x^i)) \\right) \n",
    "&= y^i \\cdot \\frac{1}{h_\\theta(x^i)} \\cdot \\frac{\\partial}{\\partial \\theta_j} h_\\theta(x^i) \\\\\n",
    "&= y^i \\cdot \\frac{1}{h_\\theta(x^i)} \\cdot h_\\theta(x^i) \\cdot (1 - h_\\theta(x^i)) \\cdot x_j^i \\\\\n",
    "&= y^i \\cdot (1 - h_\\theta(x^i)) \\cdot x_j^i \\\\\n",
    "\\end{align*}\n",
    "$$\n",
    "\n",
    "### Przypadek 2\n",
    "\n",
    "W $(2)$ przypadku wynikiem jest:\n",
    "$$\n",
    "\\begin{align*}\n",
    "\\frac{\\partial}{\\partial \\theta_j} \\left( (1-y^i) \\log(1-h_\\theta(x^i)) \\right)\n",
    "&= (1-y^i) \\cdot \\frac{1}{1-h_\\theta(x^i)} \\cdot \\frac{\\partial}{\\partial \\theta_j} h_\\theta(x^i) \\\\\n",
    "&= (1-y^i) \\cdot \\frac{1}{1-h_\\theta(x^i)} \\cdot h_\\theta(x^i) \\cdot (1 - h_\\theta(x^i)) \\cdot x_j^i \\\\\n",
    "&= (1-y^i) \\cdot (-h_\\theta(x^i)) \\cdot x_j^i \\\\\n",
    "\\end{align*}\n",
    "$$\n",
    "\n",
    "Po złożeniu $(1)$ i $(2)$ otrzymujemy:\n",
    "\n",
    "$$\n",
    "\\begin{align*}\n",
    "\\frac{\\partial}{\\partial \\theta_j} \\left( y^i \\log(h_\\theta(x^i)) + (1-y^i) \\log(1-h_\\theta(x^i)) \\right)\n",
    "&= y^i \\cdot (1 - h_\\theta(x^i)) \\cdot x_j^i + (1-y^i) \\cdot (-h_\\theta(x^i)) \\cdot x_j^i \\\\\n",
    "&= (h_\\theta(x^i) - y^i) \\cdot x_j^i \\\\\n",
    "\\end{align*}\n",
    "$$\n",
    "\n",
    "Zapiszmy to jeszcze raz, na środku\n",
    "\n",
    "$$\n",
    "\\frac{\\partial}{\\partial \\theta_j} J_\\theta(x, y) = (h_\\theta(x^i) - y^i) \\cdot x_j^i\n",
    "$$\n",
    "\n",
    "**Gotowe!** teraz mając pochodną funkcji kosztu można aktualizować parametry $\\theta$ tak samo jak w przypadku regresji liniowej. Pochodna ma podobną postać do tej z regresji liniowej.\n",
    "\n",
    "## Wiele klas\n",
    "\n",
    "Predykcja multi-klasowa wymaga wytrenowania odpowiednio większej ilości modeli (jeden dla każdej klasy) gdzie każdy model będzie przewidywał czy próbka należy do jednej klasy lub nie. Dla przykładu w klasyfikacji cyfr (0-9) będzie to 10 modeli z których jeden będzie przewidywać czy dana cyfra jest `0` czy nie, drugi czy jest `1` czy nie itd. Wybiera się klasę dla której model przewidział największą wartość prawdopodobieństwa. "
   ]
  },
  {
   "cell_type": "markdown",
   "metadata": {},
   "source": [
    "# Zadanie Labolatoryjne\n",
    "Najpierw import bibliotek. Jest to ten sam kod co na poprzednich labolatoriach z różniącą się funkcją printowania."
   ]
  },
  {
   "cell_type": "code",
   "execution_count": 100,
   "metadata": {},
   "outputs": [],
   "source": [
    "import numpy as np\n",
    "import pandas as pd\n",
    "import matplotlib.pyplot as plt\n",
    "\n",
    "from IPython.display import display, Markdown\n",
    "\n",
    "import sklearn as sk\n",
    "import sklearn.preprocessing as skp \n",
    "import sklearn.model_selection as skms\n",
    "import sklearn.linear_model as sklm\n",
    "import sklearn.metrics as skm\n",
    "import sklearn.pipeline as skpl\n",
    "\n",
    "# Ulepszona funkcja do formatowania outputu z cellów na podstaiwe doświadczeń z poprzednich laboratoriów\n",
    "def displmd(*args, **kwargs):\n",
    "    display(Markdown('\\n\\n'.join(arg for arg in args), **kwargs))"
   ]
  },
  {
   "cell_type": "markdown",
   "metadata": {},
   "source": [
    "## Wyczytwanie danych\n",
    "Moduł `pandas` pozwala na łatwe wczytywanie danych z pliku `*.csv`. Wczytujemy dane z pliku `credit_clients.csv` i wyświetlamy pierwsze 5 wierszy aby sprawdzić czy dane zostały poprawnie wczytane. Parametr `header` określa czy pierwszy wiersz pliku zawiera nazwy kolumn."
   ]
  },
  {
   "cell_type": "code",
   "execution_count": 101,
   "metadata": {},
   "outputs": [
    {
     "data": {
      "text/html": [
       "<div>\n",
       "<style scoped>\n",
       "    .dataframe tbody tr th:only-of-type {\n",
       "        vertical-align: middle;\n",
       "    }\n",
       "\n",
       "    .dataframe tbody tr th {\n",
       "        vertical-align: top;\n",
       "    }\n",
       "\n",
       "    .dataframe thead th {\n",
       "        text-align: right;\n",
       "    }\n",
       "</style>\n",
       "<table border=\"1\" class=\"dataframe\">\n",
       "  <thead>\n",
       "    <tr style=\"text-align: right;\">\n",
       "      <th></th>\n",
       "      <th>ID</th>\n",
       "      <th>LIMIT_BAL</th>\n",
       "      <th>SEX</th>\n",
       "      <th>EDUCATION</th>\n",
       "      <th>MARRIAGE</th>\n",
       "      <th>AGE</th>\n",
       "      <th>PAY_0</th>\n",
       "      <th>PAY_2</th>\n",
       "      <th>PAY_3</th>\n",
       "      <th>PAY_4</th>\n",
       "      <th>...</th>\n",
       "      <th>BILL_AMT4</th>\n",
       "      <th>BILL_AMT5</th>\n",
       "      <th>BILL_AMT6</th>\n",
       "      <th>PAY_AMT1</th>\n",
       "      <th>PAY_AMT2</th>\n",
       "      <th>PAY_AMT3</th>\n",
       "      <th>PAY_AMT4</th>\n",
       "      <th>PAY_AMT5</th>\n",
       "      <th>PAY_AMT6</th>\n",
       "      <th>default payment next month</th>\n",
       "    </tr>\n",
       "  </thead>\n",
       "  <tbody>\n",
       "    <tr>\n",
       "      <th>0</th>\n",
       "      <td>1</td>\n",
       "      <td>20000</td>\n",
       "      <td>2</td>\n",
       "      <td>2</td>\n",
       "      <td>1</td>\n",
       "      <td>24</td>\n",
       "      <td>2</td>\n",
       "      <td>2</td>\n",
       "      <td>-1</td>\n",
       "      <td>-1</td>\n",
       "      <td>...</td>\n",
       "      <td>0</td>\n",
       "      <td>0</td>\n",
       "      <td>0</td>\n",
       "      <td>0</td>\n",
       "      <td>689</td>\n",
       "      <td>0</td>\n",
       "      <td>0</td>\n",
       "      <td>0</td>\n",
       "      <td>0</td>\n",
       "      <td>1</td>\n",
       "    </tr>\n",
       "    <tr>\n",
       "      <th>1</th>\n",
       "      <td>2</td>\n",
       "      <td>120000</td>\n",
       "      <td>2</td>\n",
       "      <td>2</td>\n",
       "      <td>2</td>\n",
       "      <td>26</td>\n",
       "      <td>-1</td>\n",
       "      <td>2</td>\n",
       "      <td>0</td>\n",
       "      <td>0</td>\n",
       "      <td>...</td>\n",
       "      <td>3272</td>\n",
       "      <td>3455</td>\n",
       "      <td>3261</td>\n",
       "      <td>0</td>\n",
       "      <td>1000</td>\n",
       "      <td>1000</td>\n",
       "      <td>1000</td>\n",
       "      <td>0</td>\n",
       "      <td>2000</td>\n",
       "      <td>1</td>\n",
       "    </tr>\n",
       "    <tr>\n",
       "      <th>2</th>\n",
       "      <td>3</td>\n",
       "      <td>90000</td>\n",
       "      <td>2</td>\n",
       "      <td>2</td>\n",
       "      <td>2</td>\n",
       "      <td>34</td>\n",
       "      <td>0</td>\n",
       "      <td>0</td>\n",
       "      <td>0</td>\n",
       "      <td>0</td>\n",
       "      <td>...</td>\n",
       "      <td>14331</td>\n",
       "      <td>14948</td>\n",
       "      <td>15549</td>\n",
       "      <td>1518</td>\n",
       "      <td>1500</td>\n",
       "      <td>1000</td>\n",
       "      <td>1000</td>\n",
       "      <td>1000</td>\n",
       "      <td>5000</td>\n",
       "      <td>0</td>\n",
       "    </tr>\n",
       "    <tr>\n",
       "      <th>3</th>\n",
       "      <td>4</td>\n",
       "      <td>50000</td>\n",
       "      <td>2</td>\n",
       "      <td>2</td>\n",
       "      <td>1</td>\n",
       "      <td>37</td>\n",
       "      <td>0</td>\n",
       "      <td>0</td>\n",
       "      <td>0</td>\n",
       "      <td>0</td>\n",
       "      <td>...</td>\n",
       "      <td>28314</td>\n",
       "      <td>28959</td>\n",
       "      <td>29547</td>\n",
       "      <td>2000</td>\n",
       "      <td>2019</td>\n",
       "      <td>1200</td>\n",
       "      <td>1100</td>\n",
       "      <td>1069</td>\n",
       "      <td>1000</td>\n",
       "      <td>0</td>\n",
       "    </tr>\n",
       "    <tr>\n",
       "      <th>4</th>\n",
       "      <td>5</td>\n",
       "      <td>50000</td>\n",
       "      <td>1</td>\n",
       "      <td>2</td>\n",
       "      <td>1</td>\n",
       "      <td>57</td>\n",
       "      <td>-1</td>\n",
       "      <td>0</td>\n",
       "      <td>-1</td>\n",
       "      <td>0</td>\n",
       "      <td>...</td>\n",
       "      <td>20940</td>\n",
       "      <td>19146</td>\n",
       "      <td>19131</td>\n",
       "      <td>2000</td>\n",
       "      <td>36681</td>\n",
       "      <td>10000</td>\n",
       "      <td>9000</td>\n",
       "      <td>689</td>\n",
       "      <td>679</td>\n",
       "      <td>0</td>\n",
       "    </tr>\n",
       "  </tbody>\n",
       "</table>\n",
       "<p>5 rows × 25 columns</p>\n",
       "</div>"
      ],
      "text/plain": [
       "   ID  LIMIT_BAL  SEX  EDUCATION  MARRIAGE  AGE  PAY_0  PAY_2  PAY_3  PAY_4  \\\n",
       "0   1      20000    2          2         1   24      2      2     -1     -1   \n",
       "1   2     120000    2          2         2   26     -1      2      0      0   \n",
       "2   3      90000    2          2         2   34      0      0      0      0   \n",
       "3   4      50000    2          2         1   37      0      0      0      0   \n",
       "4   5      50000    1          2         1   57     -1      0     -1      0   \n",
       "\n",
       "   ...  BILL_AMT4  BILL_AMT5  BILL_AMT6  PAY_AMT1  PAY_AMT2  PAY_AMT3  \\\n",
       "0  ...          0          0          0         0       689         0   \n",
       "1  ...       3272       3455       3261         0      1000      1000   \n",
       "2  ...      14331      14948      15549      1518      1500      1000   \n",
       "3  ...      28314      28959      29547      2000      2019      1200   \n",
       "4  ...      20940      19146      19131      2000     36681     10000   \n",
       "\n",
       "   PAY_AMT4  PAY_AMT5  PAY_AMT6  default payment next month  \n",
       "0         0         0         0                           1  \n",
       "1      1000         0      2000                           1  \n",
       "2      1000      1000      5000                           0  \n",
       "3      1100      1069      1000                           0  \n",
       "4      9000       689       679                           0  \n",
       "\n",
       "[5 rows x 25 columns]"
      ]
     },
     "execution_count": 101,
     "metadata": {},
     "output_type": "execute_result"
    }
   ],
   "source": [
    "data = pd.read_excel(io='credit_clients.xls', header=1)\n",
    "data.head()"
   ]
  },
  {
   "cell_type": "markdown",
   "metadata": {},
   "source": [
    "Teraz można rozdzielić dane na cechy i etykiety. W tym przypadku cechami są wszystkie kolumny oprócz ostatniej, a etykietami jest ostatnia kolumna o nazwie `default payment next month`. Zawiera ona jedynie wartości 0 i 1, czyli perfekcyjny przypadek dla regresji logistycznej. Notacja `(30000,)` oznacza jeden wiersz, to samo co `(30000, 1)`"
   ]
  },
  {
   "cell_type": "code",
   "execution_count": 102,
   "metadata": {},
   "outputs": [
    {
     "data": {
      "text/markdown": [
       "Rozmiar zbioru danych: `(30000, 24)`\n",
       "\n",
       "Rozmiar zbioru target: `(30000,)`"
      ],
      "text/plain": [
       "<IPython.core.display.Markdown object>"
      ]
     },
     "metadata": {},
     "output_type": "display_data"
    },
    {
     "data": {
      "text/html": [
       "<div>\n",
       "<style scoped>\n",
       "    .dataframe tbody tr th:only-of-type {\n",
       "        vertical-align: middle;\n",
       "    }\n",
       "\n",
       "    .dataframe tbody tr th {\n",
       "        vertical-align: top;\n",
       "    }\n",
       "\n",
       "    .dataframe thead th {\n",
       "        text-align: right;\n",
       "    }\n",
       "</style>\n",
       "<table border=\"1\" class=\"dataframe\">\n",
       "  <thead>\n",
       "    <tr style=\"text-align: right;\">\n",
       "      <th></th>\n",
       "      <th>ID</th>\n",
       "      <th>LIMIT_BAL</th>\n",
       "      <th>SEX</th>\n",
       "      <th>EDUCATION</th>\n",
       "      <th>MARRIAGE</th>\n",
       "      <th>AGE</th>\n",
       "      <th>PAY_0</th>\n",
       "      <th>PAY_2</th>\n",
       "      <th>PAY_3</th>\n",
       "      <th>PAY_4</th>\n",
       "      <th>...</th>\n",
       "      <th>BILL_AMT3</th>\n",
       "      <th>BILL_AMT4</th>\n",
       "      <th>BILL_AMT5</th>\n",
       "      <th>BILL_AMT6</th>\n",
       "      <th>PAY_AMT1</th>\n",
       "      <th>PAY_AMT2</th>\n",
       "      <th>PAY_AMT3</th>\n",
       "      <th>PAY_AMT4</th>\n",
       "      <th>PAY_AMT5</th>\n",
       "      <th>PAY_AMT6</th>\n",
       "    </tr>\n",
       "  </thead>\n",
       "  <tbody>\n",
       "    <tr>\n",
       "      <th>count</th>\n",
       "      <td>30000.000000</td>\n",
       "      <td>30000.000000</td>\n",
       "      <td>30000.000000</td>\n",
       "      <td>30000.000000</td>\n",
       "      <td>30000.000000</td>\n",
       "      <td>30000.000000</td>\n",
       "      <td>30000.000000</td>\n",
       "      <td>30000.000000</td>\n",
       "      <td>30000.000000</td>\n",
       "      <td>30000.000000</td>\n",
       "      <td>...</td>\n",
       "      <td>3.000000e+04</td>\n",
       "      <td>30000.000000</td>\n",
       "      <td>30000.000000</td>\n",
       "      <td>30000.000000</td>\n",
       "      <td>30000.000000</td>\n",
       "      <td>3.000000e+04</td>\n",
       "      <td>30000.00000</td>\n",
       "      <td>30000.000000</td>\n",
       "      <td>30000.000000</td>\n",
       "      <td>30000.000000</td>\n",
       "    </tr>\n",
       "    <tr>\n",
       "      <th>mean</th>\n",
       "      <td>15000.500000</td>\n",
       "      <td>167484.322667</td>\n",
       "      <td>1.603733</td>\n",
       "      <td>1.853133</td>\n",
       "      <td>1.551867</td>\n",
       "      <td>35.485500</td>\n",
       "      <td>-0.016700</td>\n",
       "      <td>-0.133767</td>\n",
       "      <td>-0.166200</td>\n",
       "      <td>-0.220667</td>\n",
       "      <td>...</td>\n",
       "      <td>4.701315e+04</td>\n",
       "      <td>43262.948967</td>\n",
       "      <td>40311.400967</td>\n",
       "      <td>38871.760400</td>\n",
       "      <td>5663.580500</td>\n",
       "      <td>5.921163e+03</td>\n",
       "      <td>5225.68150</td>\n",
       "      <td>4826.076867</td>\n",
       "      <td>4799.387633</td>\n",
       "      <td>5215.502567</td>\n",
       "    </tr>\n",
       "    <tr>\n",
       "      <th>std</th>\n",
       "      <td>8660.398374</td>\n",
       "      <td>129747.661567</td>\n",
       "      <td>0.489129</td>\n",
       "      <td>0.790349</td>\n",
       "      <td>0.521970</td>\n",
       "      <td>9.217904</td>\n",
       "      <td>1.123802</td>\n",
       "      <td>1.197186</td>\n",
       "      <td>1.196868</td>\n",
       "      <td>1.169139</td>\n",
       "      <td>...</td>\n",
       "      <td>6.934939e+04</td>\n",
       "      <td>64332.856134</td>\n",
       "      <td>60797.155770</td>\n",
       "      <td>59554.107537</td>\n",
       "      <td>16563.280354</td>\n",
       "      <td>2.304087e+04</td>\n",
       "      <td>17606.96147</td>\n",
       "      <td>15666.159744</td>\n",
       "      <td>15278.305679</td>\n",
       "      <td>17777.465775</td>\n",
       "    </tr>\n",
       "    <tr>\n",
       "      <th>min</th>\n",
       "      <td>1.000000</td>\n",
       "      <td>10000.000000</td>\n",
       "      <td>1.000000</td>\n",
       "      <td>0.000000</td>\n",
       "      <td>0.000000</td>\n",
       "      <td>21.000000</td>\n",
       "      <td>-2.000000</td>\n",
       "      <td>-2.000000</td>\n",
       "      <td>-2.000000</td>\n",
       "      <td>-2.000000</td>\n",
       "      <td>...</td>\n",
       "      <td>-1.572640e+05</td>\n",
       "      <td>-170000.000000</td>\n",
       "      <td>-81334.000000</td>\n",
       "      <td>-339603.000000</td>\n",
       "      <td>0.000000</td>\n",
       "      <td>0.000000e+00</td>\n",
       "      <td>0.00000</td>\n",
       "      <td>0.000000</td>\n",
       "      <td>0.000000</td>\n",
       "      <td>0.000000</td>\n",
       "    </tr>\n",
       "    <tr>\n",
       "      <th>25%</th>\n",
       "      <td>7500.750000</td>\n",
       "      <td>50000.000000</td>\n",
       "      <td>1.000000</td>\n",
       "      <td>1.000000</td>\n",
       "      <td>1.000000</td>\n",
       "      <td>28.000000</td>\n",
       "      <td>-1.000000</td>\n",
       "      <td>-1.000000</td>\n",
       "      <td>-1.000000</td>\n",
       "      <td>-1.000000</td>\n",
       "      <td>...</td>\n",
       "      <td>2.666250e+03</td>\n",
       "      <td>2326.750000</td>\n",
       "      <td>1763.000000</td>\n",
       "      <td>1256.000000</td>\n",
       "      <td>1000.000000</td>\n",
       "      <td>8.330000e+02</td>\n",
       "      <td>390.00000</td>\n",
       "      <td>296.000000</td>\n",
       "      <td>252.500000</td>\n",
       "      <td>117.750000</td>\n",
       "    </tr>\n",
       "    <tr>\n",
       "      <th>50%</th>\n",
       "      <td>15000.500000</td>\n",
       "      <td>140000.000000</td>\n",
       "      <td>2.000000</td>\n",
       "      <td>2.000000</td>\n",
       "      <td>2.000000</td>\n",
       "      <td>34.000000</td>\n",
       "      <td>0.000000</td>\n",
       "      <td>0.000000</td>\n",
       "      <td>0.000000</td>\n",
       "      <td>0.000000</td>\n",
       "      <td>...</td>\n",
       "      <td>2.008850e+04</td>\n",
       "      <td>19052.000000</td>\n",
       "      <td>18104.500000</td>\n",
       "      <td>17071.000000</td>\n",
       "      <td>2100.000000</td>\n",
       "      <td>2.009000e+03</td>\n",
       "      <td>1800.00000</td>\n",
       "      <td>1500.000000</td>\n",
       "      <td>1500.000000</td>\n",
       "      <td>1500.000000</td>\n",
       "    </tr>\n",
       "    <tr>\n",
       "      <th>75%</th>\n",
       "      <td>22500.250000</td>\n",
       "      <td>240000.000000</td>\n",
       "      <td>2.000000</td>\n",
       "      <td>2.000000</td>\n",
       "      <td>2.000000</td>\n",
       "      <td>41.000000</td>\n",
       "      <td>0.000000</td>\n",
       "      <td>0.000000</td>\n",
       "      <td>0.000000</td>\n",
       "      <td>0.000000</td>\n",
       "      <td>...</td>\n",
       "      <td>6.016475e+04</td>\n",
       "      <td>54506.000000</td>\n",
       "      <td>50190.500000</td>\n",
       "      <td>49198.250000</td>\n",
       "      <td>5006.000000</td>\n",
       "      <td>5.000000e+03</td>\n",
       "      <td>4505.00000</td>\n",
       "      <td>4013.250000</td>\n",
       "      <td>4031.500000</td>\n",
       "      <td>4000.000000</td>\n",
       "    </tr>\n",
       "    <tr>\n",
       "      <th>max</th>\n",
       "      <td>30000.000000</td>\n",
       "      <td>1000000.000000</td>\n",
       "      <td>2.000000</td>\n",
       "      <td>6.000000</td>\n",
       "      <td>3.000000</td>\n",
       "      <td>79.000000</td>\n",
       "      <td>8.000000</td>\n",
       "      <td>8.000000</td>\n",
       "      <td>8.000000</td>\n",
       "      <td>8.000000</td>\n",
       "      <td>...</td>\n",
       "      <td>1.664089e+06</td>\n",
       "      <td>891586.000000</td>\n",
       "      <td>927171.000000</td>\n",
       "      <td>961664.000000</td>\n",
       "      <td>873552.000000</td>\n",
       "      <td>1.684259e+06</td>\n",
       "      <td>896040.00000</td>\n",
       "      <td>621000.000000</td>\n",
       "      <td>426529.000000</td>\n",
       "      <td>528666.000000</td>\n",
       "    </tr>\n",
       "  </tbody>\n",
       "</table>\n",
       "<p>8 rows × 24 columns</p>\n",
       "</div>"
      ],
      "text/plain": [
       "                 ID       LIMIT_BAL           SEX     EDUCATION      MARRIAGE  \\\n",
       "count  30000.000000    30000.000000  30000.000000  30000.000000  30000.000000   \n",
       "mean   15000.500000   167484.322667      1.603733      1.853133      1.551867   \n",
       "std     8660.398374   129747.661567      0.489129      0.790349      0.521970   \n",
       "min        1.000000    10000.000000      1.000000      0.000000      0.000000   \n",
       "25%     7500.750000    50000.000000      1.000000      1.000000      1.000000   \n",
       "50%    15000.500000   140000.000000      2.000000      2.000000      2.000000   \n",
       "75%    22500.250000   240000.000000      2.000000      2.000000      2.000000   \n",
       "max    30000.000000  1000000.000000      2.000000      6.000000      3.000000   \n",
       "\n",
       "                AGE         PAY_0         PAY_2         PAY_3         PAY_4  \\\n",
       "count  30000.000000  30000.000000  30000.000000  30000.000000  30000.000000   \n",
       "mean      35.485500     -0.016700     -0.133767     -0.166200     -0.220667   \n",
       "std        9.217904      1.123802      1.197186      1.196868      1.169139   \n",
       "min       21.000000     -2.000000     -2.000000     -2.000000     -2.000000   \n",
       "25%       28.000000     -1.000000     -1.000000     -1.000000     -1.000000   \n",
       "50%       34.000000      0.000000      0.000000      0.000000      0.000000   \n",
       "75%       41.000000      0.000000      0.000000      0.000000      0.000000   \n",
       "max       79.000000      8.000000      8.000000      8.000000      8.000000   \n",
       "\n",
       "       ...     BILL_AMT3      BILL_AMT4      BILL_AMT5      BILL_AMT6  \\\n",
       "count  ...  3.000000e+04   30000.000000   30000.000000   30000.000000   \n",
       "mean   ...  4.701315e+04   43262.948967   40311.400967   38871.760400   \n",
       "std    ...  6.934939e+04   64332.856134   60797.155770   59554.107537   \n",
       "min    ... -1.572640e+05 -170000.000000  -81334.000000 -339603.000000   \n",
       "25%    ...  2.666250e+03    2326.750000    1763.000000    1256.000000   \n",
       "50%    ...  2.008850e+04   19052.000000   18104.500000   17071.000000   \n",
       "75%    ...  6.016475e+04   54506.000000   50190.500000   49198.250000   \n",
       "max    ...  1.664089e+06  891586.000000  927171.000000  961664.000000   \n",
       "\n",
       "            PAY_AMT1      PAY_AMT2      PAY_AMT3       PAY_AMT4  \\\n",
       "count   30000.000000  3.000000e+04   30000.00000   30000.000000   \n",
       "mean     5663.580500  5.921163e+03    5225.68150    4826.076867   \n",
       "std     16563.280354  2.304087e+04   17606.96147   15666.159744   \n",
       "min         0.000000  0.000000e+00       0.00000       0.000000   \n",
       "25%      1000.000000  8.330000e+02     390.00000     296.000000   \n",
       "50%      2100.000000  2.009000e+03    1800.00000    1500.000000   \n",
       "75%      5006.000000  5.000000e+03    4505.00000    4013.250000   \n",
       "max    873552.000000  1.684259e+06  896040.00000  621000.000000   \n",
       "\n",
       "            PAY_AMT5       PAY_AMT6  \n",
       "count   30000.000000   30000.000000  \n",
       "mean     4799.387633    5215.502567  \n",
       "std     15278.305679   17777.465775  \n",
       "min         0.000000       0.000000  \n",
       "25%       252.500000     117.750000  \n",
       "50%      1500.000000    1500.000000  \n",
       "75%      4031.500000    4000.000000  \n",
       "max    426529.000000  528666.000000  \n",
       "\n",
       "[8 rows x 24 columns]"
      ]
     },
     "execution_count": 102,
     "metadata": {},
     "output_type": "execute_result"
    }
   ],
   "source": [
    "df = data.iloc[:,:-1]\n",
    "target = data[\"default payment next month\"]\n",
    "\n",
    "displmd(\n",
    "    f\"Rozmiar zbioru danych: `{df.shape}`\",\n",
    "    f\"Rozmiar zbioru target: `{target.shape}`\",\n",
    ")\n",
    "df.describe()"
   ]
  },
  {
   "cell_type": "markdown",
   "metadata": {},
   "source": [
    "Analiza tej kolumny pokazuje bardzo ważną informacje - ponad `75%` próbek to `0`, oznacza to że model ma ułatwione zadanie."
   ]
  },
  {
   "cell_type": "code",
   "execution_count": 103,
   "metadata": {},
   "outputs": [
    {
     "data": {
      "text/markdown": [
       "|       |   default payment next month |\n",
       "|:------|-----------------------------:|\n",
       "| count |                 30000        |\n",
       "| mean  |                     0.2212   |\n",
       "| std   |                     0.415062 |\n",
       "| min   |                     0        |\n",
       "| 25%   |                     0        |\n",
       "| 50%   |                     0        |\n",
       "| 75%   |                     0        |\n",
       "| max   |                     1        |"
      ],
      "text/plain": [
       "<IPython.core.display.Markdown object>"
      ]
     },
     "metadata": {},
     "output_type": "display_data"
    }
   ],
   "source": [
    "displmd(target.describe().to_markdown())"
   ]
  },
  {
   "cell_type": "code",
   "execution_count": 104,
   "metadata": {},
   "outputs": [
    {
     "name": "stdout",
     "output_type": "stream",
     "text": [
      "<class 'pandas.core.frame.DataFrame'>\n",
      "RangeIndex: 30000 entries, 0 to 29999\n",
      "Data columns (total 24 columns):\n",
      " #   Column     Non-Null Count  Dtype\n",
      "---  ------     --------------  -----\n",
      " 0   ID         30000 non-null  int64\n",
      " 1   LIMIT_BAL  30000 non-null  int64\n",
      " 2   SEX        30000 non-null  int64\n",
      " 3   EDUCATION  30000 non-null  int64\n",
      " 4   MARRIAGE   30000 non-null  int64\n",
      " 5   AGE        30000 non-null  int64\n",
      " 6   PAY_0      30000 non-null  int64\n",
      " 7   PAY_2      30000 non-null  int64\n",
      " 8   PAY_3      30000 non-null  int64\n",
      " 9   PAY_4      30000 non-null  int64\n",
      " 10  PAY_5      30000 non-null  int64\n",
      " 11  PAY_6      30000 non-null  int64\n",
      " 12  BILL_AMT1  30000 non-null  int64\n",
      " 13  BILL_AMT2  30000 non-null  int64\n",
      " 14  BILL_AMT3  30000 non-null  int64\n",
      " 15  BILL_AMT4  30000 non-null  int64\n",
      " 16  BILL_AMT5  30000 non-null  int64\n",
      " 17  BILL_AMT6  30000 non-null  int64\n",
      " 18  PAY_AMT1   30000 non-null  int64\n",
      " 19  PAY_AMT2   30000 non-null  int64\n",
      " 20  PAY_AMT3   30000 non-null  int64\n",
      " 21  PAY_AMT4   30000 non-null  int64\n",
      " 22  PAY_AMT5   30000 non-null  int64\n",
      " 23  PAY_AMT6   30000 non-null  int64\n",
      "dtypes: int64(24)\n",
      "memory usage: 5.5 MB\n"
     ]
    }
   ],
   "source": [
    "df.info()"
   ]
  },
  {
   "cell_type": "code",
   "execution_count": 105,
   "metadata": {},
   "outputs": [
    {
     "name": "stdout",
     "output_type": "stream",
     "text": [
      "(24000, 23) (6000, 23) (24000,) (6000,)\n"
     ]
    }
   ],
   "source": [
    "x = df.drop(columns=['ID'])\n",
    "y = target\n",
    "xy = pd.concat([x,y], axis=1)\n",
    "\n",
    "train_x, test_x, train_y, test_y = skms.train_test_split(x, y, test_size=0.2)\n",
    "print(train_x.shape, test_x.shape, train_y.shape, test_y.shape) #type: ignore"
   ]
  },
  {
   "cell_type": "markdown",
   "metadata": {},
   "source": [
    "## Normalizacja, Regresja i Ocena\n",
    "\n",
    "Poniżej wykonano normalizacje i trenowanie modelu regresji logistycznej.\n",
    "Jak widać po wynikach, model osiągnął dokładność na zbiorze treningowym wynoszącą około $81.2\\%$ jest to **jakaś** dokładność, patrząc na średnią wartość `default payment next month` wynoszącą $22.1\\%$ to model jest raczej kiepski. Nawet zgadując losowo, można uzyskać dokładność $77.9\\%$ (Odpowiadać na wszystkie wartości zerem)."
   ]
  },
  {
   "cell_type": "code",
   "execution_count": 106,
   "metadata": {},
   "outputs": [
    {
     "data": {
      "text/markdown": [
       "# Model Accuracy\n",
       "\n",
       "Accuracy score: `0.8156666666666667`"
      ],
      "text/plain": [
       "<IPython.core.display.Markdown object>"
      ]
     },
     "metadata": {},
     "output_type": "display_data"
    }
   ],
   "source": [
    "nlr = skpl.make_pipeline(skp.StandardScaler(), sklm.LogisticRegression())\n",
    "\n",
    "nlr.fit(train_x, train_y)\n",
    "\n",
    "acc_score = skm.accuracy_score(test_y, nlr.predict(test_x))\n",
    "\n",
    "displmd(\n",
    "    \"# Model Accuracy\",\n",
    "    f\"Accuracy score: `{acc_score}`\",\n",
    ")"
   ]
  },
  {
   "cell_type": "code",
   "execution_count": 107,
   "metadata": {},
   "outputs": [
    {
     "data": {
      "text/markdown": [
       "# Model output\n",
       "\n",
       "`Model output: [0, 0, 0, 0, 0, 1, 0, 0, 0, 0]`\n",
       "\n",
       "`Ground truth: [0, 1, 0, 1, 0, 1, 0, 1, 0, 0]`"
      ],
      "text/plain": [
       "<IPython.core.display.Markdown object>"
      ]
     },
     "metadata": {},
     "output_type": "display_data"
    }
   ],
   "source": [
    "model_y = nlr.predict(test_x[:10])\n",
    "groud_y = test_y[:10]\n",
    "\n",
    "displmd(\n",
    "    \"# Model output\",\n",
    "    f\"`Model output: {list(model_y)}`\",\n",
    "    f\"`Ground truth: {list(groud_y)}`\",\n",
    ")"
   ]
  },
  {
   "cell_type": "markdown",
   "metadata": {},
   "source": [
    "Dodatkowo zamiast wartości binarnych, można sprawdzić prawdopodobieństwa przynależności do danej klasy. W tym celu należy wywołać funkcję `predict_proba` zamiast `predict`."
   ]
  },
  {
   "cell_type": "code",
   "execution_count": 108,
   "metadata": {},
   "outputs": [
    {
     "data": {
      "text/markdown": [
       "# Model output\n",
       "\n",
       "`Model output: 0.19 0.18 0.07 0.23 0.22 0.54 0.22 0.26 0.27 0.18`\n",
       "\n",
       "`Ground truth: 0.00 1.00 0.00 1.00 0.00 1.00 0.00 1.00 0.00 0.00`"
      ],
      "text/plain": [
       "<IPython.core.display.Markdown object>"
      ]
     },
     "metadata": {},
     "output_type": "display_data"
    }
   ],
   "source": [
    "model_y = nlr.predict_proba(test_x[:10])\n",
    "groud_y = test_y[:10]\n",
    "\n",
    "displmd(\n",
    "    \"# Model output\",\n",
    "    f\"`Model output: {' '.join([f'{_y[1]:0.2f}' for _y in model_y])}`\",\n",
    "    f\"`Ground truth: {' '.join([f'{_y:0.2f}' for _y in groud_y])}`\",\n",
    ")"
   ]
  },
  {
   "cell_type": "markdown",
   "metadata": {},
   "source": [
    "Wartości te można policzyć ręcznie korzystając z `coef_` i `intercept_`. Należy pamiętać o normalizacji danych!"
   ]
  },
  {
   "cell_type": "code",
   "execution_count": 109,
   "metadata": {},
   "outputs": [
    {
     "data": {
      "text/markdown": [
       "# Model output (manual)\n",
       "\n",
       "`Model output: 0.19 0.18 0.07 0.23 0.22 0.54 0.22 0.26 0.27 0.18`\n",
       "\n",
       "`Treshold    : 0.00 0.00 0.00 0.00 0.00 1.00 0.00 0.00 0.00 0.00`\n",
       "\n",
       "`Ground truth: 0.00 1.00 0.00 1.00 0.00 1.00 0.00 1.00 0.00 0.00`"
      ],
      "text/plain": [
       "<IPython.core.display.Markdown object>"
      ]
     },
     "metadata": {},
     "output_type": "display_data"
    }
   ],
   "source": [
    "# calculating output manulay using _coef and _intercept\n",
    "_coef = nlr.named_steps['logisticregression'].coef_\n",
    "_intercept = nlr.named_steps['logisticregression'].intercept_\n",
    "_x_norm = nlr.named_steps['standardscaler'].transform(test_x[:10])\n",
    "\n",
    "model_y = sig(_coef @ _x_norm.T + _intercept)\n",
    "groud_y = test_y[:10]\n",
    "\n",
    "displmd(\n",
    "    \"# Model output (manual)\",\n",
    "    f\"`Model output: {' '.join([f'{_y:0.2f}' for _y in model_y[0]])}`\",\n",
    "    f\"`Treshold    : {' '.join(['1.00' if _y > 0.5 else '0.00' for _y in model_y[0]])}`\",\n",
    "    f\"`Ground truth: {' '.join([f'{_y:0.2f}' for _y in groud_y])}`\",\n",
    ")"
   ]
  },
  {
   "cell_type": "markdown",
   "metadata": {},
   "source": [
    "Jak widać po macierzy model rzeczywiście najczęściej obstawia wartość `0` co kończy się dużą ilością pomyłek dla w przypadku gdy etykieta jest `1`. Wysoka dokładność nie oznacza że model jest dobry."
   ]
  },
  {
   "cell_type": "code",
   "execution_count": 110,
   "metadata": {},
   "outputs": [
    {
     "data": {
      "text/plain": [
       "<sklearn.metrics._plot.confusion_matrix.ConfusionMatrixDisplay at 0x23102c49b80>"
      ]
     },
     "execution_count": 110,
     "metadata": {},
     "output_type": "execute_result"
    },
    {
     "data": {
      "image/png": "[encoded data removed]",
      "text/plain": [
       "<Figure size 432x288 with 2 Axes>"
      ]
     },
     "metadata": {
      "needs_background": "light"
     },
     "output_type": "display_data"
    }
   ],
   "source": [
    "skm.ConfusionMatrixDisplay.from_predictions(test_y, nlr.predict(test_x))"
   ]
  },
  {
   "cell_type": "markdown",
   "metadata": {},
   "source": [
    "Sprawdzanie cross walidacji nie wykazuje żadnych ciekawych zależności"
   ]
  },
  {
   "cell_type": "code",
   "execution_count": 111,
   "metadata": {},
   "outputs": [
    {
     "data": {
      "text/markdown": [
       "## Cross-validation results\n",
       "\n",
       "Accuracy: 0.81 ± 0.01\n",
       "\n",
       "Train accuracy: 0.81 ± 0.00\n",
       "\n",
       "## All results\n",
       "\n",
       "|    |   test_score |   train_score |\n",
       "|---:|-------------:|--------------:|\n",
       "|  0 |     0.803333 |      0.811963 |\n",
       "|  1 |     0.800333 |      0.812259 |\n",
       "|  2 |     0.807667 |      0.811037 |\n",
       "|  3 |     0.804    |      0.812    |\n",
       "|  4 |     0.809333 |      0.810222 |\n",
       "|  5 |     0.816667 |      0.809778 |\n",
       "|  6 |     0.825    |      0.80863  |\n",
       "|  7 |     0.807667 |      0.810481 |\n",
       "|  8 |     0.811333 |      0.810074 |\n",
       "|  9 |     0.811667 |      0.810444 |"
      ],
      "text/plain": [
       "<IPython.core.display.Markdown object>"
      ]
     },
     "metadata": {},
     "output_type": "display_data"
    }
   ],
   "source": [
    "# run cross-validation\n",
    "cv = skms.cross_validate(nlr, df, target, cv=10, return_train_score=True, n_jobs=-1)\n",
    "\n",
    "displmd(\n",
    "\"## Cross-validation results\",\n",
    "\"Accuracy: {:.2f} ± {:.2f}\".format(cv['test_score'].mean(), cv['test_score'].std()),\n",
    "\"Train accuracy: {:.2f} ± {:.2f}\".format(cv['train_score'].mean(), cv['train_score'].std()),\n",
    "\"## All results\",\n",
    "pd.DataFrame(cv)[[\"test_score\", \"train_score\"]].to_markdown()\n",
    ")"
   ]
  },
  {
   "cell_type": "markdown",
   "metadata": {},
   "source": [
    "## Regresja logistyczna bez normalizacji\n",
    "Regresja logistyczna powinna działać dobrze bez normalizacji, ale proces uczenia jest trudniejszy, `sklearn` wyświatla **warning** że nie udało się osiągnąć zbieżności (zależne od run'a). Uruchomienie uczenia z większą ilością kroków usuwa definitywnie usunie warning ale nie poprawia wyniku. "
   ]
  },
  {
   "cell_type": "code",
   "execution_count": 112,
   "metadata": {},
   "outputs": [
    {
     "name": "stderr",
     "output_type": "stream",
     "text": [
      "c:\\Users\\Maciej\\anaconda3\\lib\\site-packages\\sklearn\\linear_model\\_logistic.py:814: ConvergenceWarning: lbfgs failed to converge (status=1):\n",
      "STOP: TOTAL NO. of ITERATIONS REACHED LIMIT.\n",
      "\n",
      "Increase the number of iterations (max_iter) or scale the data as shown in:\n",
      "    https://scikit-learn.org/stable/modules/preprocessing.html\n",
      "Please also refer to the documentation for alternative solver options:\n",
      "    https://scikit-learn.org/stable/modules/linear_model.html#logistic-regression\n",
      "  n_iter_i = _check_optimize_result(\n"
     ]
    },
    {
     "data": {
      "text/markdown": [
       "## Logistic Regression without scaling\n",
       "\n",
       "Accuracy: `0.7823`"
      ],
      "text/plain": [
       "<IPython.core.display.Markdown object>"
      ]
     },
     "metadata": {},
     "output_type": "display_data"
    }
   ],
   "source": [
    "nlrns = skpl.make_pipeline(sklm.LogisticRegression())\n",
    "nlrns.fit(train_x, train_y)\n",
    "displmd(\n",
    "    \"## Logistic Regression without scaling\",\n",
    "    \"Accuracy: `{:.4f}`\".format(skm.accuracy_score(test_y, nlrns.predict(test_x))),\n",
    ")"
   ]
  },
  {
   "cell_type": "code",
   "execution_count": 113,
   "metadata": {},
   "outputs": [
    {
     "data": {
      "text/markdown": [
       "## Logistic Regression without scaling **`(max_iter=1000)`**\n",
       "\n",
       "Accuracy: `0.7823`"
      ],
      "text/plain": [
       "<IPython.core.display.Markdown object>"
      ]
     },
     "metadata": {},
     "output_type": "display_data"
    }
   ],
   "source": [
    "nlrns = skpl.make_pipeline(sklm.LogisticRegression(max_iter=1000, n_jobs=-1))\n",
    "nlrns.fit(train_x, train_y)\n",
    "displmd(\n",
    "    \"## Logistic Regression without scaling **`(max_iter=1000)`**\",\n",
    "    \"Accuracy: `{:.4f}`\".format(skm.accuracy_score(test_y, nlrns.predict(test_x))),\n",
    ")"
   ]
  },
  {
   "cell_type": "markdown",
   "metadata": {},
   "source": [
    "# Przeszukiwanie przestrzeni parametrów\n",
    "\n",
    "`sklearn` posiada narzędzie do przeszukiwania przestrzeni parametrów, które jest bardzo przydatne przy uczeniu modeli. Można podać zakresy i parametry jakie chcemy sprawdzić a model sam sprawdzi wszystkie kombinacje i zapisze wyniki każdego z nich.\n",
    "Jest to równoznaczne z wykonaniem pętli po wszystkich kombinacjach parametrów i zapisanie wyników `cross_validation` dla każdej z nich."
   ]
  },
  {
   "cell_type": "code",
   "execution_count": 114,
   "metadata": {},
   "outputs": [
    {
     "name": "stderr",
     "output_type": "stream",
     "text": [
      "c:\\Users\\Maciej\\anaconda3\\lib\\site-packages\\sklearn\\linear_model\\_sag.py:352: ConvergenceWarning: The max_iter was reached which means the coef_ did not converge\n",
      "  warnings.warn(\n"
     ]
    },
    {
     "data": {
      "text/plain": [
       "GridSearchCV(cv=5,\n",
       "             estimator=Pipeline(steps=[('standardscaler', StandardScaler()),\n",
       "                                       ('logisticregression',\n",
       "                                        LogisticRegression())]),\n",
       "             n_jobs=-1,\n",
       "             param_grid={'logisticregression__C': [0.01, 0.1, 1, 10],\n",
       "                         'logisticregression__penalty': ['l1', 'l2'],\n",
       "                         'logisticregression__solver': ['liblinear', 'saga']},\n",
       "             return_train_score=True)"
      ]
     },
     "execution_count": 114,
     "metadata": {},
     "output_type": "execute_result"
    }
   ],
   "source": [
    "#! UWAGA: NIE URUCHAMIAĆ TEJ KOMÓRKI, DłUGO SIĘ LICZY !\n",
    "# grid_search params\n",
    "param_grid = {\n",
    "    'logisticregression__C': [0.01, 0.1, 1, 10],\n",
    "    'logisticregression__penalty': ['l1', 'l2'],\n",
    "    'logisticregression__solver': ['liblinear', 'saga'],\n",
    "}\n",
    "# setup grid search\n",
    "grid = skms.GridSearchCV(nlr, param_grid, cv=5, n_jobs=-1, return_train_score=True)\n",
    "\n",
    "# run grid search\n",
    "grid.fit(train_x, train_y)"
   ]
  },
  {
   "cell_type": "markdown",
   "metadata": {},
   "source": [
    "Po fakcie można sprawdzić najlepsze parametry korzystając z `best_params_` oraz najlepszy wynik `best_score_`. W tym przypadu `LigisticRegression` radzi sobie w każdym przypadku źle i przeszukiwanie przestrzeni hiper-parametrów nie ma sensu."
   ]
  },
  {
   "cell_type": "code",
   "execution_count": 115,
   "metadata": {},
   "outputs": [
    {
     "data": {
      "text/markdown": [
       "## Grid search results\n",
       "\n",
       "Best accuracy: `0.8082`\n",
       "\n",
       "Best params: \n",
       "```py \n",
       "{'logisticregression__C': 10, 'logisticregression__penalty': 'l1', 'logisticregression__solver': 'saga'}\n",
       "```"
      ],
      "text/plain": [
       "<IPython.core.display.Markdown object>"
      ]
     },
     "metadata": {},
     "output_type": "display_data"
    }
   ],
   "source": [
    "displmd(\n",
    "    \"## Grid search results\",\n",
    "    \"Best accuracy: `{:.4f}`\".format(grid.best_score_),\n",
    "    f\"\"\"Best params: \n",
    "```py \n",
    "{grid.best_params_}\n",
    "```\"\"\")"
   ]
  },
  {
   "cell_type": "code",
   "execution_count": 116,
   "metadata": {},
   "outputs": [
    {
     "data": {
      "text/markdown": [
       "## All results\n",
       "\n",
       "|    | score           | params                                                                                                            |\n",
       "|---:|:----------------|:------------------------------------------------------------------------------------------------------------------|\n",
       "| 13 | 0.80825±3.4e-03 | `{'logisticregression__C': 10, 'logisticregression__penalty': 'l1', 'logisticregression__solver': 'saga'}`        |\n",
       "| 15 | 0.80825±3.4e-03 | `{'logisticregression__C': 10, 'logisticregression__penalty': 'l2', 'logisticregression__solver': 'saga'}`        |\n",
       "|  6 | 0.80821±3.6e-03 | `{'logisticregression__C': 0.1, 'logisticregression__penalty': 'l2', 'logisticregression__solver': 'liblinear'}`  |\n",
       "|  7 | 0.80821±3.4e-03 | `{'logisticregression__C': 0.1, 'logisticregression__penalty': 'l2', 'logisticregression__solver': 'saga'}`       |\n",
       "| 11 | 0.80812±3.4e-03 | `{'logisticregression__C': 1, 'logisticregression__penalty': 'l2', 'logisticregression__solver': 'saga'}`         |\n",
       "|  9 | 0.80808±3.4e-03 | `{'logisticregression__C': 1, 'logisticregression__penalty': 'l1', 'logisticregression__solver': 'saga'}`         |\n",
       "| 14 | 0.80800±3.3e-03 | `{'logisticregression__C': 10, 'logisticregression__penalty': 'l2', 'logisticregression__solver': 'liblinear'}`   |\n",
       "| 10 | 0.80796±3.4e-03 | `{'logisticregression__C': 1, 'logisticregression__penalty': 'l2', 'logisticregression__solver': 'liblinear'}`    |\n",
       "| 12 | 0.80796±3.4e-03 | `{'logisticregression__C': 10, 'logisticregression__penalty': 'l1', 'logisticregression__solver': 'liblinear'}`   |\n",
       "|  8 | 0.80783±3.4e-03 | `{'logisticregression__C': 1, 'logisticregression__penalty': 'l1', 'logisticregression__solver': 'liblinear'}`    |\n",
       "|  2 | 0.80775±3.1e-03 | `{'logisticregression__C': 0.01, 'logisticregression__penalty': 'l2', 'logisticregression__solver': 'liblinear'}` |\n",
       "|  4 | 0.80771±3.3e-03 | `{'logisticregression__C': 0.1, 'logisticregression__penalty': 'l1', 'logisticregression__solver': 'liblinear'}`  |\n",
       "|  5 | 0.80763±3.3e-03 | `{'logisticregression__C': 0.1, 'logisticregression__penalty': 'l1', 'logisticregression__solver': 'saga'}`       |\n",
       "|  3 | 0.80708±2.8e-03 | `{'logisticregression__C': 0.01, 'logisticregression__penalty': 'l2', 'logisticregression__solver': 'saga'}`      |\n",
       "|  0 | 0.80554±2.4e-03 | `{'logisticregression__C': 0.01, 'logisticregression__penalty': 'l1', 'logisticregression__solver': 'liblinear'}` |\n",
       "|  1 | 0.80483±2.3e-03 | `{'logisticregression__C': 0.01, 'logisticregression__penalty': 'l1', 'logisticregression__solver': 'saga'}`      |"
      ],
      "text/plain": [
       "<IPython.core.display.Markdown object>"
      ]
     },
     "metadata": {},
     "output_type": "display_data"
    }
   ],
   "source": [
    "cvres = grid.cv_results_\n",
    "displmd(\n",
    "    \"## All results\",\n",
    "    pd.DataFrame(cvres)[[\"mean_test_score\", \"std_test_score\", \"params\"]]\n",
    "    .sort_values(by=\"mean_test_score\", ascending=False)\n",
    "    .apply(lambda x: ({\"score\": f\"{x[0]:.5f}±{x[1]:.1e}\", \"params\": f\"`{x[2]}`\"}), axis=1, result_type='expand') #type: ignore\n",
    "    .to_markdown()\n",
    ")"
   ]
  },
  {
   "cell_type": "markdown",
   "metadata": {},
   "source": [
    "# Może zbiór uczący 50/50?\n",
    "\n",
    "Wytrenwanie modelu na pełnym zbiorze wymusi na modelu uczenie się na danych niezbalansowanych. Może lepiej będzie trenować model na zbiorze uczącym w którym jest równo próbek z każdej klasy?\n",
    "\n",
    "Wygenerujmy dane i sprawdźmy jak model radzi sobie na takim zbiorze w porównaniu starego modelu"
   ]
  },
  {
   "cell_type": "code",
   "execution_count": 117,
   "metadata": {},
   "outputs": [
    {
     "data": {
      "text/plain": [
       "count    10617.000000\n",
       "mean         0.496468\n",
       "std          0.500011\n",
       "min          0.000000\n",
       "25%          0.000000\n",
       "50%          0.000000\n",
       "75%          1.000000\n",
       "max          1.000000\n",
       "dtype: float64"
      ]
     },
     "execution_count": 117,
     "metadata": {},
     "output_type": "execute_result"
    }
   ],
   "source": [
    "# get x values so there is 50% y equal to 1 and 50% y equal to 0   \n",
    "# split data into 2 groups\n",
    "x1 = x[y == 1]\n",
    "x0 = x[y == 0]\n",
    "\n",
    "ones_count = x1.shape[0]\n",
    "# get ones_count random values from 0 group \n",
    "x0 = x0.sample(ones_count)\n",
    "\n",
    "# concat groups\n",
    "x_2 = pd.concat([x1, x0], axis=0)\n",
    "y_2 = pd.concat([pd.Series([1] * ones_count), pd.Series([0] * ones_count)], axis=0)\n",
    "\n",
    "# split to train and test\n",
    "train_x_2, test_x_2, train_y_2, test_y_2 = skms.train_test_split(x_2, y_2, test_size=0.2)\n",
    "\n",
    "# mean of y should be ~0.5\n",
    "train_y_2.describe() #type: ignore\n"
   ]
  },
  {
   "cell_type": "code",
   "execution_count": 118,
   "metadata": {},
   "outputs": [
    {
     "data": {
      "text/markdown": [
       "## Grid search results\n",
       "\n",
       "Best accuracy: `0.6869`\n",
       "\n",
       "Best params:\n",
       "```py\n",
       "{'logisticregression__C': 0.01, 'logisticregression__penalty': 'l1', 'logisticregression__solver': 'liblinear'}\n",
       "```"
      ],
      "text/plain": [
       "<IPython.core.display.Markdown object>"
      ]
     },
     "metadata": {},
     "output_type": "display_data"
    }
   ],
   "source": [
    "# train model & do grid search\n",
    "nlr_2 = skpl.make_pipeline(skp.StandardScaler(), sklm.LogisticRegression(max_iter=100))\n",
    "grid_2 = skms.GridSearchCV(nlr_2, param_grid, cv=5, n_jobs=-1, return_train_score=True)\n",
    "\n",
    "grid_2.fit(train_x_2, train_y_2)\n",
    "\n",
    "displmd(\n",
    "    \"## Grid search results\",\n",
    "    \"Best accuracy: `{:.4f}`\".format(grid_2.best_score_),\n",
    "    f\"\"\"Best params:\n",
    "```py\n",
    "{grid_2.best_params_}\n",
    "```\"\"\",\n",
    ")"
   ]
  },
  {
   "cell_type": "code",
   "execution_count": 119,
   "metadata": {},
   "outputs": [
    {
     "data": {
      "text/markdown": [
       "## Accuracy comparison\n",
       "\n",
       "|                     |      All |   Balanced |\n",
       "|:--------------------|---------:|-----------:|\n",
       "| Trained on all      | 0.815667 |   0.590207 |\n",
       "| Trained on balanced | 0.724833 |   0.672316 |"
      ],
      "text/plain": [
       "<IPython.core.display.Markdown object>"
      ]
     },
     "metadata": {},
     "output_type": "display_data"
    },
    {
     "data": {
      "text/plain": [
       "<sklearn.metrics._plot.confusion_matrix.ConfusionMatrixDisplay at 0x23101a32190>"
      ]
     },
     "execution_count": 119,
     "metadata": {},
     "output_type": "execute_result"
    },
    {
     "data": {
      "image/png": "[encoded data removed]",
      "text/plain": [
       "<Figure size 432x288 with 2 Axes>"
      ]
     },
     "metadata": {
      "needs_background": "light"
     },
     "output_type": "display_data"
    }
   ],
   "source": [
    "mat = pd.DataFrame(columns=[\"All\", \"Balanced\"], index=[\"Trained on all\", \"Trained on balanced\"])\n",
    "\n",
    "mat.loc[\"Trained on all\", \"All\"] = skm.accuracy_score(test_y, grid.predict(test_x))\n",
    "mat.loc[\"Trained on all\", \"Balanced\"] = skm.accuracy_score(test_y_2, grid.predict(test_x_2))\n",
    "mat.loc[\"Trained on balanced\", \"All\"] = skm.accuracy_score(test_y, grid_2.predict(test_x))\n",
    "mat.loc[\"Trained on balanced\", \"Balanced\"] = skm.accuracy_score(test_y_2, grid_2.predict(test_x_2))\n",
    "\n",
    "displmd(\n",
    "    \"## Accuracy comparison\",\n",
    "    mat.to_markdown(),\n",
    ")\n",
    "skm.ConfusionMatrixDisplay.from_predictions(test_y, grid_2.predict(test_x))"
   ]
  },
  {
   "cell_type": "markdown",
   "metadata": {},
   "source": [
    "Jak widać oba modele radzą sobie źle na zbalansowanych danych, ale model na nich trenowany znacznie lepiej. Model trenowany na zbiorze niezbalansowanym ma również gorszy wynik na całym zbiorze ale wynika to z tego że nie jest **zbiasowany** przez przewagę próbek z klasy `0`. \n",
    "\n",
    "Po `confusion_matrix` można zauważyć że model trenowany na zbalansowanym zbiorze ma dużo mniej pewności do której klasy należy próbka, w porównaniu ze starym modelem który mógł z góry założyć że próbka prawdobodobnie należy do klasy `0`.\n",
    "\n",
    "Dodatkowo wyniki drugiego modelu są bardziej stabline - wydajność oscyluje w okolicy `70%` a nie jak w przypadku pierwszego modelu gdzie wynik osiąga `80%` dla całego zbioru ale `60%` dla zbalansowanego."
   ]
  },
  {
   "cell_type": "markdown",
   "metadata": {},
   "source": [
    "# Wnioski\n",
    "* Regresja logistyczna jest bardzo podobna do regresji liniowej, różni się jedynie funkcją aktywacji i koncepcją regresji wieloklasowej.\n",
    "* Regresja liniowa nie nadaje się do tego problemu (za mała dokładność)\n",
    "* Wyprowadzanie funkcji sigmoidalnej z użyciem `latex'u` to zły pomysł\n",
    "* Ostrożnie dobierać parametry do przeszukiwania bo czasami może to być bardzo długo trwający proces\n",
    "* Trenowanie na danych znormalizowanych jest szybsze (otpymalizator lepiej sobie radzi)\n",
    "* Modele są czułe na balans danych"
   ]
  }
 ],
 "metadata": {
  "kernelspec": {
   "display_name": "Python 3.9.12 ('base')",
   "language": "python",
   "name": "python3"
  },
  "language_info": {
   "codemirror_mode": {
    "name": "ipython",
    "version": 3
   },
   "file_extension": ".py",
   "mimetype": "text/x-python",
   "name": "python",
   "nbconvert_exporter": "python",
   "pygments_lexer": "ipython3",
   "version": "3.9.12"
  },
  "orig_nbformat": 4,
  "vscode": {
   "interpreter": {
    "hash": "a3f3c870ccc3fe58f140ce64581ec8eaa0605a9d9788d0734c700f5795092453"
   }
  }
 },
 "nbformat": 4,
 "nbformat_minor": 2
}
